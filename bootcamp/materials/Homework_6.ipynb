{
    "cells": [
        {
            "attachments": {},
            "cell_type": "markdown",
            "metadata": {
                "azdata_cell_guid": "c0e1cd0a-2e8c-46f4-b34b-c19dd9787819"
            },
            "source": [
                "The information needed to create an SCD from which we can find the first and last active dates, and group all of the clusters of years when players were active or inactive can be found in the players table or the player\\_seasons table. Both of them have a min date of 1996 and a max of 2022."
            ]
        },
        {
            "cell_type": "code",
            "execution_count": 40,
            "metadata": {
                "azdata_cell_guid": "fb01f80f-57df-4c48-9a2a-4afc607809c5",
                "language": "sql"
            },
            "outputs": [
                {
                    "data": {
                        "text/html": [
                            "(1 row(s) affected)"
                        ]
                    },
                    "metadata": {},
                    "output_type": "display_data"
                },
                {
                    "data": {
                        "text/html": [
                            "Total execution time: 00:00:00.019"
                        ]
                    },
                    "metadata": {},
                    "output_type": "display_data"
                },
                {
                    "data": {
                        "application/vnd.dataresource+json": {
                            "data": [
                                {
                                    "count": "37425"
                                }
                            ],
                            "schema": {
                                "fields": [
                                    {
                                        "name": "count"
                                    }
                                ]
                            }
                        },
                        "text/html": [
                            "<table><tr><th>count</th></tr><tr><td>37425</td></tr></table>"
                        ]
                    },
                    "execution_count": 40,
                    "metadata": {},
                    "output_type": "execute_result"
                }
            ],
            "source": [
                "SELECT COUNT(*)\n",
                "FROM player_seasons ps\n",
                "    FULL OUTER JOIN players p \n",
                "    ON ps.player_name = p.player_name AND ps.season = p.current_season \n"
            ]
        },
        {
            "attachments": {},
            "cell_type": "markdown",
            "metadata": {
                "azdata_cell_guid": "083809cd-0725-4215-a0f0-93961be64696"
            },
            "source": [
                "Since the other information isn't really relevant, for purposes of processing, going with the smaller table would be ideal; however, the players\\_table seems to have 3 times the number of rows as the player\\_seasons table. After looking into this, the players table current\\_year doesn't represent whether the player was active. Once they are added to the table, it continues to list them, showing they are retained even after they have retired.   \n",
                "  \n",
                "Thus the player\\_seasons table is better to use for this"
            ]
        },
        {
            "cell_type": "code",
            "execution_count": 175,
            "metadata": {
                "azdata_cell_guid": "862fb615-727e-4bc1-aa03-aee8421f9f9f",
                "language": "sql"
            },
            "outputs": [
                {
                    "data": {
                        "text/html": [
                            "(4 row(s) affected)"
                        ]
                    },
                    "metadata": {},
                    "output_type": "display_data"
                },
                {
                    "data": {
                        "text/html": [
                            "Total execution time: 00:00:00.003"
                        ]
                    },
                    "metadata": {},
                    "output_type": "display_data"
                },
                {
                    "data": {
                        "application/vnd.dataresource+json": {
                            "data": [
                                {
                                    "player_name": "Michael Jordan",
                                    "season": "1996"
                                },
                                {
                                    "player_name": "Michael Jordan",
                                    "season": "1997"
                                },
                                {
                                    "player_name": "Michael Jordan",
                                    "season": "2001"
                                },
                                {
                                    "player_name": "Michael Jordan",
                                    "season": "2002"
                                }
                            ],
                            "schema": {
                                "fields": [
                                    {
                                        "name": "player_name"
                                    },
                                    {
                                        "name": "season"
                                    }
                                ]
                            }
                        },
                        "text/html": [
                            "<table><tr><th>player_name</th><th>season</th></tr><tr><td>Michael Jordan</td><td>1996</td></tr><tr><td>Michael Jordan</td><td>1997</td></tr><tr><td>Michael Jordan</td><td>2001</td></tr><tr><td>Michael Jordan</td><td>2002</td></tr></table>"
                        ]
                    },
                    "execution_count": 175,
                    "metadata": {},
                    "output_type": "execute_result"
                }
            ],
            "source": [
                "SELECT player_name\n",
                "    , season\n",
                "FROM player_seasons\n",
                "WHERE player_name = 'Michael Jordan'"
            ]
        },
        {
            "cell_type": "code",
            "execution_count": 176,
            "metadata": {
                "azdata_cell_guid": "c3ad161b-cb5e-4e6c-a32f-ea4267e97a55",
                "language": "sql"
            },
            "outputs": [
                {
                    "data": {
                        "text/html": [
                            "(27 row(s) affected)"
                        ]
                    },
                    "metadata": {},
                    "output_type": "display_data"
                },
                {
                    "data": {
                        "text/html": [
                            "Total execution time: 00:00:00.003"
                        ]
                    },
                    "metadata": {},
                    "output_type": "display_data"
                },
                {
                    "data": {
                        "application/vnd.dataresource+json": {
                            "data": [
                                {
                                    "current_season": "1996",
                                    "player_name": "Michael Jordan"
                                },
                                {
                                    "current_season": "1997",
                                    "player_name": "Michael Jordan"
                                },
                                {
                                    "current_season": "1998",
                                    "player_name": "Michael Jordan"
                                },
                                {
                                    "current_season": "1999",
                                    "player_name": "Michael Jordan"
                                },
                                {
                                    "current_season": "2000",
                                    "player_name": "Michael Jordan"
                                },
                                {
                                    "current_season": "2001",
                                    "player_name": "Michael Jordan"
                                },
                                {
                                    "current_season": "2002",
                                    "player_name": "Michael Jordan"
                                },
                                {
                                    "current_season": "2003",
                                    "player_name": "Michael Jordan"
                                },
                                {
                                    "current_season": "2004",
                                    "player_name": "Michael Jordan"
                                },
                                {
                                    "current_season": "2005",
                                    "player_name": "Michael Jordan"
                                },
                                {
                                    "current_season": "2006",
                                    "player_name": "Michael Jordan"
                                },
                                {
                                    "current_season": "2007",
                                    "player_name": "Michael Jordan"
                                },
                                {
                                    "current_season": "2008",
                                    "player_name": "Michael Jordan"
                                },
                                {
                                    "current_season": "2009",
                                    "player_name": "Michael Jordan"
                                },
                                {
                                    "current_season": "2010",
                                    "player_name": "Michael Jordan"
                                },
                                {
                                    "current_season": "2011",
                                    "player_name": "Michael Jordan"
                                },
                                {
                                    "current_season": "2012",
                                    "player_name": "Michael Jordan"
                                },
                                {
                                    "current_season": "2013",
                                    "player_name": "Michael Jordan"
                                },
                                {
                                    "current_season": "2014",
                                    "player_name": "Michael Jordan"
                                },
                                {
                                    "current_season": "2015",
                                    "player_name": "Michael Jordan"
                                },
                                {
                                    "current_season": "2016",
                                    "player_name": "Michael Jordan"
                                },
                                {
                                    "current_season": "2017",
                                    "player_name": "Michael Jordan"
                                },
                                {
                                    "current_season": "2018",
                                    "player_name": "Michael Jordan"
                                },
                                {
                                    "current_season": "2019",
                                    "player_name": "Michael Jordan"
                                },
                                {
                                    "current_season": "2020",
                                    "player_name": "Michael Jordan"
                                },
                                {
                                    "current_season": "2021",
                                    "player_name": "Michael Jordan"
                                },
                                {
                                    "current_season": "2022",
                                    "player_name": "Michael Jordan"
                                }
                            ],
                            "schema": {
                                "fields": [
                                    {
                                        "name": "player_name"
                                    },
                                    {
                                        "name": "current_season"
                                    }
                                ]
                            }
                        },
                        "text/html": [
                            "<table><tr><th>player_name</th><th>current_season</th></tr><tr><td>Michael Jordan</td><td>1996</td></tr><tr><td>Michael Jordan</td><td>1997</td></tr><tr><td>Michael Jordan</td><td>1998</td></tr><tr><td>Michael Jordan</td><td>1999</td></tr><tr><td>Michael Jordan</td><td>2000</td></tr><tr><td>Michael Jordan</td><td>2001</td></tr><tr><td>Michael Jordan</td><td>2002</td></tr><tr><td>Michael Jordan</td><td>2003</td></tr><tr><td>Michael Jordan</td><td>2004</td></tr><tr><td>Michael Jordan</td><td>2005</td></tr><tr><td>Michael Jordan</td><td>2006</td></tr><tr><td>Michael Jordan</td><td>2007</td></tr><tr><td>Michael Jordan</td><td>2008</td></tr><tr><td>Michael Jordan</td><td>2009</td></tr><tr><td>Michael Jordan</td><td>2010</td></tr><tr><td>Michael Jordan</td><td>2011</td></tr><tr><td>Michael Jordan</td><td>2012</td></tr><tr><td>Michael Jordan</td><td>2013</td></tr><tr><td>Michael Jordan</td><td>2014</td></tr><tr><td>Michael Jordan</td><td>2015</td></tr><tr><td>Michael Jordan</td><td>2016</td></tr><tr><td>Michael Jordan</td><td>2017</td></tr><tr><td>Michael Jordan</td><td>2018</td></tr><tr><td>Michael Jordan</td><td>2019</td></tr><tr><td>Michael Jordan</td><td>2020</td></tr><tr><td>Michael Jordan</td><td>2021</td></tr><tr><td>Michael Jordan</td><td>2022</td></tr></table>"
                        ]
                    },
                    "execution_count": 176,
                    "metadata": {},
                    "output_type": "execute_result"
                }
            ],
            "source": [
                "SELECT player_name\n",
                "    , current_season\n",
                "FROM players\n",
                "WHERE player_name = 'Michael Jordan'"
            ]
        },
        {
            "cell_type": "code",
            "execution_count": 14,
            "metadata": {
                "azdata_cell_guid": "65ef644a-b021-45ce-b5c1-9a63508178d1",
                "language": "sql",
                "tags": []
            },
            "outputs": [
                {
                    "data": {
                        "text/html": [
                            "DROP TABLE"
                        ]
                    },
                    "metadata": {},
                    "output_type": "display_data"
                },
                {
                    "data": {
                        "text/html": [
                            "CREATE TABLE"
                        ]
                    },
                    "metadata": {},
                    "output_type": "display_data"
                },
                {
                    "data": {
                        "text/html": [
                            "Total execution time: 00:00:00.013"
                        ]
                    },
                    "metadata": {},
                    "output_type": "display_data"
                }
            ],
            "source": [
                "-- CREATE THE player_state_tracking table\n",
                "\n",
                "DROP TABLE IF EXISTS player_state_tracking;\n",
                "\n",
                "CREATE TABLE player_state_tracking(\n",
                "    player_name TEXT\n",
                "    , first_active_season INT\n",
                "    , last_active_season INT\n",
                "    , seasonal_active_state TEXT\n",
                "    , seasons_active INT[]\n",
                "    , season INT\n",
                "    , PRIMARY KEY (player_name, season)\n",
                ")"
            ]
        },
        {
            "cell_type": "code",
            "execution_count": 1,
            "metadata": {
                "azdata_cell_guid": "e9f96af0-5924-40c7-ad57-e5013f1bf510",
                "language": "sql"
            },
            "outputs": [
                {
                    "data": {
                        "text/html": [
                            "(5 row(s) affected)"
                        ]
                    },
                    "metadata": {},
                    "output_type": "display_data"
                },
                {
                    "data": {
                        "text/html": [
                            "Total execution time: 00:00:00.007"
                        ]
                    },
                    "metadata": {},
                    "output_type": "display_data"
                },
                {
                    "data": {
                        "application/vnd.dataresource+json": {
                            "data": [
                                {
                                    "count": "NULL",
                                    "first_active_season": "1996",
                                    "last_active_season": "1996",
                                    "player_name": "Aaron McKie",
                                    "season": "1996",
                                    "seasonal_active_state": "New",
                                    "seasons_active": "{1996}"
                                },
                                {
                                    "count": "NULL",
                                    "first_active_season": "1996",
                                    "last_active_season": "1996",
                                    "player_name": "Aaron Williams",
                                    "season": "1996",
                                    "seasonal_active_state": "New",
                                    "seasons_active": "{1996}"
                                },
                                {
                                    "count": "NULL",
                                    "first_active_season": "1996",
                                    "last_active_season": "1996",
                                    "player_name": "A.C. Green",
                                    "season": "1996",
                                    "seasonal_active_state": "New",
                                    "seasons_active": "{1996}"
                                },
                                {
                                    "count": "NULL",
                                    "first_active_season": "1996",
                                    "last_active_season": "1996",
                                    "player_name": "Acie Earl",
                                    "season": "1996",
                                    "seasonal_active_state": "New",
                                    "seasons_active": "{1996}"
                                },
                                {
                                    "count": "NULL",
                                    "first_active_season": "1996",
                                    "last_active_season": "1996",
                                    "player_name": "Adam Keefe",
                                    "season": "1996",
                                    "seasonal_active_state": "New",
                                    "seasons_active": "{1996}"
                                }
                            ],
                            "schema": {
                                "fields": [
                                    {
                                        "name": "player_name"
                                    },
                                    {
                                        "name": "season"
                                    },
                                    {
                                        "name": "count"
                                    },
                                    {
                                        "name": "player_name"
                                    },
                                    {
                                        "name": "first_active_season"
                                    },
                                    {
                                        "name": "last_active_season"
                                    },
                                    {
                                        "name": "seasonal_active_state"
                                    },
                                    {
                                        "name": "seasons_active"
                                    },
                                    {
                                        "name": "season"
                                    }
                                ]
                            }
                        },
                        "text/html": [
                            "<table><tr><th>player_name</th><th>season</th><th>count</th><th>player_name</th><th>first_active_season</th><th>last_active_season</th><th>seasonal_active_state</th><th>seasons_active</th><th>season</th></tr><tr><td>NULL</td><td>NULL</td><td>NULL</td><td>Aaron McKie</td><td>1996</td><td>1996</td><td>New</td><td>{1996}</td><td>1996</td></tr><tr><td>NULL</td><td>NULL</td><td>NULL</td><td>Aaron Williams</td><td>1996</td><td>1996</td><td>New</td><td>{1996}</td><td>1996</td></tr><tr><td>NULL</td><td>NULL</td><td>NULL</td><td>A.C. Green</td><td>1996</td><td>1996</td><td>New</td><td>{1996}</td><td>1996</td></tr><tr><td>NULL</td><td>NULL</td><td>NULL</td><td>Acie Earl</td><td>1996</td><td>1996</td><td>New</td><td>{1996}</td><td>1996</td></tr><tr><td>NULL</td><td>NULL</td><td>NULL</td><td>Adam Keefe</td><td>1996</td><td>1996</td><td>New</td><td>{1996}</td><td>1996</td></tr></table>"
                        ]
                    },
                    "execution_count": 1,
                    "metadata": {},
                    "output_type": "execute_result"
                }
            ],
            "source": [
                "WITH yesteryear AS (\n",
                "    SELECT * \n",
                "    FROM player_state_tracking\n",
                "    WHERE season = 1996\n",
                "), \n",
                "thisyear AS (\n",
                "    SELECT \n",
                "        player_name\n",
                "        , season \n",
                "        , COUNT(1) \n",
                "    FROM player_seasons\n",
                "    WHERE season = 1997\n",
                "    GROUP BY player_name, season\n",
                ")\n",
                "SELECT \n",
                "    *\n",
                "FROM thisyear t\n",
                "    FULL OUTER JOIN yesteryear y \n",
                "    ON t.player_name = y.player_name\n",
                "    AND t.season = y.season\n",
                "LIMIT 5\n",
                "\n",
                "-- We don't expect anything for yesteryear data since nothing has been added to the table yet"
            ]
        },
        {
            "attachments": {},
            "cell_type": "markdown",
            "metadata": {
                "azdata_cell_guid": "a45b5424-b271-4f0e-a0d7-8c0d094ad533"
            },
            "source": [
                "Got exactly what we were expecting - the data from the thisyear table above and nulls for all yesteryear, which will have to be incrementally inserted into the table once we have the full query written."
            ]
        },
        {
            "cell_type": "markdown",
            "metadata": {},
            "source": []
        },
        {
            "cell_type": "code",
            "execution_count": 41,
            "metadata": {
                "azdata_cell_guid": "8a0cf9cf-bbad-47ba-b4c6-bf7a12cbb0cd",
                "language": "sql"
            },
            "outputs": [
                {
                    "data": {
                        "text/html": [
                            "INSERT 0 2491"
                        ]
                    },
                    "metadata": {},
                    "output_type": "display_data"
                },
                {
                    "data": {
                        "text/html": [
                            "(27 row(s) affected)"
                        ]
                    },
                    "metadata": {},
                    "output_type": "display_data"
                },
                {
                    "data": {
                        "text/html": [
                            "Total execution time: 00:00:00.027"
                        ]
                    },
                    "metadata": {},
                    "output_type": "display_data"
                },
                {
                    "data": {
                        "application/vnd.dataresource+json": {
                            "data": [
                                {
                                    "first_active_season": "1996",
                                    "last_active_season": "1996",
                                    "player_name": "Michael Jordan",
                                    "season": "1996",
                                    "seasonal_active_state": "New",
                                    "seasons_active": "{1996}"
                                },
                                {
                                    "first_active_season": "1996",
                                    "last_active_season": "1997",
                                    "player_name": "Michael Jordan",
                                    "season": "1997",
                                    "seasonal_active_state": "Continued Playing",
                                    "seasons_active": "{1996,1997}"
                                },
                                {
                                    "first_active_season": "1996",
                                    "last_active_season": "1997",
                                    "player_name": "Michael Jordan",
                                    "season": "1998",
                                    "seasonal_active_state": "Retired",
                                    "seasons_active": "{1996,1997}"
                                },
                                {
                                    "first_active_season": "1996",
                                    "last_active_season": "1997",
                                    "player_name": "Michael Jordan",
                                    "season": "1999",
                                    "seasonal_active_state": "Stale",
                                    "seasons_active": "{1996,1997}"
                                },
                                {
                                    "first_active_season": "1996",
                                    "last_active_season": "1997",
                                    "player_name": "Michael Jordan",
                                    "season": "2000",
                                    "seasonal_active_state": "Stale",
                                    "seasons_active": "{1996,1997}"
                                },
                                {
                                    "first_active_season": "1996",
                                    "last_active_season": "2001",
                                    "player_name": "Michael Jordan",
                                    "season": "2001",
                                    "seasonal_active_state": "Returned from Retirement",
                                    "seasons_active": "{1996,1997,2001}"
                                },
                                {
                                    "first_active_season": "1996",
                                    "last_active_season": "2002",
                                    "player_name": "Michael Jordan",
                                    "season": "2002",
                                    "seasonal_active_state": "Continued Playing",
                                    "seasons_active": "{1996,1997,2001,2002}"
                                },
                                {
                                    "first_active_season": "1996",
                                    "last_active_season": "2002",
                                    "player_name": "Michael Jordan",
                                    "season": "2003",
                                    "seasonal_active_state": "Retired",
                                    "seasons_active": "{1996,1997,2001,2002}"
                                },
                                {
                                    "first_active_season": "1996",
                                    "last_active_season": "2002",
                                    "player_name": "Michael Jordan",
                                    "season": "2004",
                                    "seasonal_active_state": "Stale",
                                    "seasons_active": "{1996,1997,2001,2002}"
                                },
                                {
                                    "first_active_season": "1996",
                                    "last_active_season": "2002",
                                    "player_name": "Michael Jordan",
                                    "season": "2005",
                                    "seasonal_active_state": "Stale",
                                    "seasons_active": "{1996,1997,2001,2002}"
                                },
                                {
                                    "first_active_season": "1996",
                                    "last_active_season": "2002",
                                    "player_name": "Michael Jordan",
                                    "season": "2006",
                                    "seasonal_active_state": "Stale",
                                    "seasons_active": "{1996,1997,2001,2002}"
                                },
                                {
                                    "first_active_season": "1996",
                                    "last_active_season": "2002",
                                    "player_name": "Michael Jordan",
                                    "season": "2007",
                                    "seasonal_active_state": "Stale",
                                    "seasons_active": "{1996,1997,2001,2002}"
                                },
                                {
                                    "first_active_season": "1996",
                                    "last_active_season": "2002",
                                    "player_name": "Michael Jordan",
                                    "season": "2008",
                                    "seasonal_active_state": "Stale",
                                    "seasons_active": "{1996,1997,2001,2002}"
                                },
                                {
                                    "first_active_season": "1996",
                                    "last_active_season": "2002",
                                    "player_name": "Michael Jordan",
                                    "season": "2009",
                                    "seasonal_active_state": "Stale",
                                    "seasons_active": "{1996,1997,2001,2002}"
                                },
                                {
                                    "first_active_season": "1996",
                                    "last_active_season": "2002",
                                    "player_name": "Michael Jordan",
                                    "season": "2010",
                                    "seasonal_active_state": "Stale",
                                    "seasons_active": "{1996,1997,2001,2002}"
                                },
                                {
                                    "first_active_season": "1996",
                                    "last_active_season": "2002",
                                    "player_name": "Michael Jordan",
                                    "season": "2011",
                                    "seasonal_active_state": "Stale",
                                    "seasons_active": "{1996,1997,2001,2002}"
                                },
                                {
                                    "first_active_season": "1996",
                                    "last_active_season": "2002",
                                    "player_name": "Michael Jordan",
                                    "season": "2012",
                                    "seasonal_active_state": "Stale",
                                    "seasons_active": "{1996,1997,2001,2002}"
                                },
                                {
                                    "first_active_season": "1996",
                                    "last_active_season": "2002",
                                    "player_name": "Michael Jordan",
                                    "season": "2013",
                                    "seasonal_active_state": "Stale",
                                    "seasons_active": "{1996,1997,2001,2002}"
                                },
                                {
                                    "first_active_season": "1996",
                                    "last_active_season": "2002",
                                    "player_name": "Michael Jordan",
                                    "season": "2014",
                                    "seasonal_active_state": "Stale",
                                    "seasons_active": "{1996,1997,2001,2002}"
                                },
                                {
                                    "first_active_season": "1996",
                                    "last_active_season": "2002",
                                    "player_name": "Michael Jordan",
                                    "season": "2015",
                                    "seasonal_active_state": "Stale",
                                    "seasons_active": "{1996,1997,2001,2002}"
                                },
                                {
                                    "first_active_season": "1996",
                                    "last_active_season": "2002",
                                    "player_name": "Michael Jordan",
                                    "season": "2016",
                                    "seasonal_active_state": "Stale",
                                    "seasons_active": "{1996,1997,2001,2002}"
                                },
                                {
                                    "first_active_season": "1996",
                                    "last_active_season": "2002",
                                    "player_name": "Michael Jordan",
                                    "season": "2017",
                                    "seasonal_active_state": "Stale",
                                    "seasons_active": "{1996,1997,2001,2002}"
                                },
                                {
                                    "first_active_season": "1996",
                                    "last_active_season": "2002",
                                    "player_name": "Michael Jordan",
                                    "season": "2018",
                                    "seasonal_active_state": "Stale",
                                    "seasons_active": "{1996,1997,2001,2002}"
                                },
                                {
                                    "first_active_season": "1996",
                                    "last_active_season": "2002",
                                    "player_name": "Michael Jordan",
                                    "season": "2019",
                                    "seasonal_active_state": "Stale",
                                    "seasons_active": "{1996,1997,2001,2002}"
                                },
                                {
                                    "first_active_season": "1996",
                                    "last_active_season": "2002",
                                    "player_name": "Michael Jordan",
                                    "season": "2020",
                                    "seasonal_active_state": "Stale",
                                    "seasons_active": "{1996,1997,2001,2002}"
                                },
                                {
                                    "first_active_season": "1996",
                                    "last_active_season": "2002",
                                    "player_name": "Michael Jordan",
                                    "season": "2021",
                                    "seasonal_active_state": "Stale",
                                    "seasons_active": "{1996,1997,2001,2002}"
                                },
                                {
                                    "first_active_season": "1996",
                                    "last_active_season": "2002",
                                    "player_name": "Michael Jordan",
                                    "season": "2022",
                                    "seasonal_active_state": "Stale",
                                    "seasons_active": "{1996,1997,2001,2002}"
                                }
                            ],
                            "schema": {
                                "fields": [
                                    {
                                        "name": "player_name"
                                    },
                                    {
                                        "name": "first_active_season"
                                    },
                                    {
                                        "name": "last_active_season"
                                    },
                                    {
                                        "name": "seasonal_active_state"
                                    },
                                    {
                                        "name": "seasons_active"
                                    },
                                    {
                                        "name": "season"
                                    }
                                ]
                            }
                        },
                        "text/html": [
                            "<table><tr><th>player_name</th><th>first_active_season</th><th>last_active_season</th><th>seasonal_active_state</th><th>seasons_active</th><th>season</th></tr><tr><td>Michael Jordan</td><td>1996</td><td>1996</td><td>New</td><td>{1996}</td><td>1996</td></tr><tr><td>Michael Jordan</td><td>1996</td><td>1997</td><td>Continued Playing</td><td>{1996,1997}</td><td>1997</td></tr><tr><td>Michael Jordan</td><td>1996</td><td>1997</td><td>Retired</td><td>{1996,1997}</td><td>1998</td></tr><tr><td>Michael Jordan</td><td>1996</td><td>1997</td><td>Stale</td><td>{1996,1997}</td><td>1999</td></tr><tr><td>Michael Jordan</td><td>1996</td><td>1997</td><td>Stale</td><td>{1996,1997}</td><td>2000</td></tr><tr><td>Michael Jordan</td><td>1996</td><td>2001</td><td>Returned from Retirement</td><td>{1996,1997,2001}</td><td>2001</td></tr><tr><td>Michael Jordan</td><td>1996</td><td>2002</td><td>Continued Playing</td><td>{1996,1997,2001,2002}</td><td>2002</td></tr><tr><td>Michael Jordan</td><td>1996</td><td>2002</td><td>Retired</td><td>{1996,1997,2001,2002}</td><td>2003</td></tr><tr><td>Michael Jordan</td><td>1996</td><td>2002</td><td>Stale</td><td>{1996,1997,2001,2002}</td><td>2004</td></tr><tr><td>Michael Jordan</td><td>1996</td><td>2002</td><td>Stale</td><td>{1996,1997,2001,2002}</td><td>2005</td></tr><tr><td>Michael Jordan</td><td>1996</td><td>2002</td><td>Stale</td><td>{1996,1997,2001,2002}</td><td>2006</td></tr><tr><td>Michael Jordan</td><td>1996</td><td>2002</td><td>Stale</td><td>{1996,1997,2001,2002}</td><td>2007</td></tr><tr><td>Michael Jordan</td><td>1996</td><td>2002</td><td>Stale</td><td>{1996,1997,2001,2002}</td><td>2008</td></tr><tr><td>Michael Jordan</td><td>1996</td><td>2002</td><td>Stale</td><td>{1996,1997,2001,2002}</td><td>2009</td></tr><tr><td>Michael Jordan</td><td>1996</td><td>2002</td><td>Stale</td><td>{1996,1997,2001,2002}</td><td>2010</td></tr><tr><td>Michael Jordan</td><td>1996</td><td>2002</td><td>Stale</td><td>{1996,1997,2001,2002}</td><td>2011</td></tr><tr><td>Michael Jordan</td><td>1996</td><td>2002</td><td>Stale</td><td>{1996,1997,2001,2002}</td><td>2012</td></tr><tr><td>Michael Jordan</td><td>1996</td><td>2002</td><td>Stale</td><td>{1996,1997,2001,2002}</td><td>2013</td></tr><tr><td>Michael Jordan</td><td>1996</td><td>2002</td><td>Stale</td><td>{1996,1997,2001,2002}</td><td>2014</td></tr><tr><td>Michael Jordan</td><td>1996</td><td>2002</td><td>Stale</td><td>{1996,1997,2001,2002}</td><td>2015</td></tr><tr><td>Michael Jordan</td><td>1996</td><td>2002</td><td>Stale</td><td>{1996,1997,2001,2002}</td><td>2016</td></tr><tr><td>Michael Jordan</td><td>1996</td><td>2002</td><td>Stale</td><td>{1996,1997,2001,2002}</td><td>2017</td></tr><tr><td>Michael Jordan</td><td>1996</td><td>2002</td><td>Stale</td><td>{1996,1997,2001,2002}</td><td>2018</td></tr><tr><td>Michael Jordan</td><td>1996</td><td>2002</td><td>Stale</td><td>{1996,1997,2001,2002}</td><td>2019</td></tr><tr><td>Michael Jordan</td><td>1996</td><td>2002</td><td>Stale</td><td>{1996,1997,2001,2002}</td><td>2020</td></tr><tr><td>Michael Jordan</td><td>1996</td><td>2002</td><td>Stale</td><td>{1996,1997,2001,2002}</td><td>2021</td></tr><tr><td>Michael Jordan</td><td>1996</td><td>2002</td><td>Stale</td><td>{1996,1997,2001,2002}</td><td>2022</td></tr></table>"
                        ]
                    },
                    "execution_count": 41,
                    "metadata": {},
                    "output_type": "execute_result"
                }
            ],
            "source": [
                "INSERT INTO player_state_tracking\n",
                "WITH yesteryear AS (\n",
                "    SELECT * \n",
                "    FROM player_state_tracking\n",
                "    WHERE season = 2021\n",
                "), \n",
                "thisyear AS (\n",
                "    SELECT \n",
                "        player_name\n",
                "        , season\n",
                "    FROM player_seasons\n",
                "    WHERE season = 2022\n",
                "    GROUP BY player_name, season\n",
                ")\n",
                "SELECT \n",
                "    COALESCE(t.player_name, y.player_name) AS player_name\n",
                "    , COALESCE(y.first_active_season, t.season) AS first_active_season\n",
                "    -- If the first_active_season is Null, it will create a season from the t.season\n",
                "    , COALESCE(t.season, y.last_active_season) AS last_active_season\n",
                "    -- If the season is null, then it will use the last active season to fill\n",
                "    , CASE \n",
                "        WHEN y.player_name IS NULL THEN 'New'\n",
                "        WHEN y.last_active_season = t.season - 1 THEN 'Continued Playing'\n",
                "        WHEN y.last_active_season < t.season - 1 THEN 'Returned from Retirement'\n",
                "        WHEN t.season IS NULL AND y.last_active_season = y.season THEN 'Retired'\n",
                "        ELSE 'Stayed Retired'\n",
                "    END AS seasonal_active_state\n",
                "    , COALESCE(y.seasons_active, ARRAY[]::INT[])\n",
                "        || CASE\n",
                "                WHEN t.player_name IS NOT NULL THEN ARRAY[t.season] \n",
                "                ELSE ARRAY []::INT []\n",
                "            END AS seasons_active\n",
                "    , COALESCE(t.season, y.season + 1) AS season\n",
                "FROM thisyear t\n",
                "    FULL OUTER JOIN yesteryear y \n",
                "    ON t.player_name = y.player_name\n",
                ";\n",
                "\n",
                "SELECT * \n",
                "FROM player_state_tracking\n",
                "WHERE player_name = 'Michael Jordan'"
            ]
        },
        {
            "cell_type": "code",
            "execution_count": 217,
            "metadata": {
                "azdata_cell_guid": "7c59b1db-b61c-47b8-bc12-329688e8192c",
                "language": "sql"
            },
            "outputs": [
                {
                    "data": {
                        "text/html": [
                            "(27 row(s) affected)"
                        ]
                    },
                    "metadata": {},
                    "output_type": "display_data"
                },
                {
                    "data": {
                        "text/html": [
                            "Total execution time: 00:00:00.005"
                        ]
                    },
                    "metadata": {},
                    "output_type": "display_data"
                },
                {
                    "data": {
                        "application/vnd.dataresource+json": {
                            "data": [
                                {
                                    "first_active_season": "1996",
                                    "last_active_season": "1996",
                                    "player_name": "Michael Jordan",
                                    "season": "1996",
                                    "seasonal_active_state": "New",
                                    "seasons_active": "{1996}"
                                },
                                {
                                    "first_active_season": "1996",
                                    "last_active_season": "1997",
                                    "player_name": "Michael Jordan",
                                    "season": "1997",
                                    "seasonal_active_state": "Retained",
                                    "seasons_active": "{1996,1997}"
                                },
                                {
                                    "first_active_season": "1996",
                                    "last_active_season": "1997",
                                    "player_name": "Michael Jordan",
                                    "season": "1998",
                                    "seasonal_active_state": "Churned",
                                    "seasons_active": "{1996,1997}"
                                },
                                {
                                    "first_active_season": "1996",
                                    "last_active_season": "1997",
                                    "player_name": "Michael Jordan",
                                    "season": "1999",
                                    "seasonal_active_state": "Stale",
                                    "seasons_active": "{1996,1997}"
                                },
                                {
                                    "first_active_season": "1996",
                                    "last_active_season": "1997",
                                    "player_name": "Michael Jordan",
                                    "season": "2000",
                                    "seasonal_active_state": "Stale",
                                    "seasons_active": "{1996,1997}"
                                },
                                {
                                    "first_active_season": "1996",
                                    "last_active_season": "2001",
                                    "player_name": "Michael Jordan",
                                    "season": "2001",
                                    "seasonal_active_state": "Resurrected",
                                    "seasons_active": "{1996,1997,2001}"
                                },
                                {
                                    "first_active_season": "1996",
                                    "last_active_season": "2002",
                                    "player_name": "Michael Jordan",
                                    "season": "2002",
                                    "seasonal_active_state": "Retained",
                                    "seasons_active": "{1996,1997,2001,2002}"
                                },
                                {
                                    "first_active_season": "1996",
                                    "last_active_season": "2002",
                                    "player_name": "Michael Jordan",
                                    "season": "2003",
                                    "seasonal_active_state": "Churned",
                                    "seasons_active": "{1996,1997,2001,2002}"
                                },
                                {
                                    "first_active_season": "1996",
                                    "last_active_season": "2002",
                                    "player_name": "Michael Jordan",
                                    "season": "2004",
                                    "seasonal_active_state": "Stale",
                                    "seasons_active": "{1996,1997,2001,2002}"
                                },
                                {
                                    "first_active_season": "1996",
                                    "last_active_season": "2002",
                                    "player_name": "Michael Jordan",
                                    "season": "2005",
                                    "seasonal_active_state": "Stale",
                                    "seasons_active": "{1996,1997,2001,2002}"
                                },
                                {
                                    "first_active_season": "1996",
                                    "last_active_season": "2002",
                                    "player_name": "Michael Jordan",
                                    "season": "2006",
                                    "seasonal_active_state": "Stale",
                                    "seasons_active": "{1996,1997,2001,2002}"
                                },
                                {
                                    "first_active_season": "1996",
                                    "last_active_season": "2002",
                                    "player_name": "Michael Jordan",
                                    "season": "2007",
                                    "seasonal_active_state": "Stale",
                                    "seasons_active": "{1996,1997,2001,2002}"
                                },
                                {
                                    "first_active_season": "1996",
                                    "last_active_season": "2002",
                                    "player_name": "Michael Jordan",
                                    "season": "2008",
                                    "seasonal_active_state": "Stale",
                                    "seasons_active": "{1996,1997,2001,2002}"
                                },
                                {
                                    "first_active_season": "1996",
                                    "last_active_season": "2002",
                                    "player_name": "Michael Jordan",
                                    "season": "2009",
                                    "seasonal_active_state": "Stale",
                                    "seasons_active": "{1996,1997,2001,2002}"
                                },
                                {
                                    "first_active_season": "1996",
                                    "last_active_season": "2002",
                                    "player_name": "Michael Jordan",
                                    "season": "2010",
                                    "seasonal_active_state": "Stale",
                                    "seasons_active": "{1996,1997,2001,2002}"
                                },
                                {
                                    "first_active_season": "1996",
                                    "last_active_season": "2002",
                                    "player_name": "Michael Jordan",
                                    "season": "2011",
                                    "seasonal_active_state": "Stale",
                                    "seasons_active": "{1996,1997,2001,2002}"
                                },
                                {
                                    "first_active_season": "1996",
                                    "last_active_season": "2002",
                                    "player_name": "Michael Jordan",
                                    "season": "2012",
                                    "seasonal_active_state": "Stale",
                                    "seasons_active": "{1996,1997,2001,2002}"
                                },
                                {
                                    "first_active_season": "1996",
                                    "last_active_season": "2002",
                                    "player_name": "Michael Jordan",
                                    "season": "2013",
                                    "seasonal_active_state": "Stale",
                                    "seasons_active": "{1996,1997,2001,2002}"
                                },
                                {
                                    "first_active_season": "1996",
                                    "last_active_season": "2002",
                                    "player_name": "Michael Jordan",
                                    "season": "2014",
                                    "seasonal_active_state": "Stale",
                                    "seasons_active": "{1996,1997,2001,2002}"
                                },
                                {
                                    "first_active_season": "1996",
                                    "last_active_season": "2002",
                                    "player_name": "Michael Jordan",
                                    "season": "2015",
                                    "seasonal_active_state": "Stale",
                                    "seasons_active": "{1996,1997,2001,2002}"
                                },
                                {
                                    "first_active_season": "1996",
                                    "last_active_season": "2002",
                                    "player_name": "Michael Jordan",
                                    "season": "2016",
                                    "seasonal_active_state": "Stale",
                                    "seasons_active": "{1996,1997,2001,2002}"
                                },
                                {
                                    "first_active_season": "1996",
                                    "last_active_season": "2002",
                                    "player_name": "Michael Jordan",
                                    "season": "2017",
                                    "seasonal_active_state": "Stale",
                                    "seasons_active": "{1996,1997,2001,2002}"
                                },
                                {
                                    "first_active_season": "1996",
                                    "last_active_season": "2002",
                                    "player_name": "Michael Jordan",
                                    "season": "2018",
                                    "seasonal_active_state": "Stale",
                                    "seasons_active": "{1996,1997,2001,2002}"
                                },
                                {
                                    "first_active_season": "1996",
                                    "last_active_season": "2002",
                                    "player_name": "Michael Jordan",
                                    "season": "2019",
                                    "seasonal_active_state": "Stale",
                                    "seasons_active": "{1996,1997,2001,2002}"
                                },
                                {
                                    "first_active_season": "1996",
                                    "last_active_season": "2002",
                                    "player_name": "Michael Jordan",
                                    "season": "2020",
                                    "seasonal_active_state": "Stale",
                                    "seasons_active": "{1996,1997,2001,2002}"
                                },
                                {
                                    "first_active_season": "1996",
                                    "last_active_season": "2002",
                                    "player_name": "Michael Jordan",
                                    "season": "2021",
                                    "seasonal_active_state": "Stale",
                                    "seasons_active": "{1996,1997,2001,2002}"
                                },
                                {
                                    "first_active_season": "1996",
                                    "last_active_season": "2002",
                                    "player_name": "Michael Jordan",
                                    "season": "2022",
                                    "seasonal_active_state": "Stale",
                                    "seasons_active": "{1996,1997,2001,2002}"
                                }
                            ],
                            "schema": {
                                "fields": [
                                    {
                                        "name": "player_name"
                                    },
                                    {
                                        "name": "first_active_season"
                                    },
                                    {
                                        "name": "last_active_season"
                                    },
                                    {
                                        "name": "seasonal_active_state"
                                    },
                                    {
                                        "name": "seasons_active"
                                    },
                                    {
                                        "name": "season"
                                    }
                                ]
                            }
                        },
                        "text/html": [
                            "<table><tr><th>player_name</th><th>first_active_season</th><th>last_active_season</th><th>seasonal_active_state</th><th>seasons_active</th><th>season</th></tr><tr><td>Michael Jordan</td><td>1996</td><td>1996</td><td>New</td><td>{1996}</td><td>1996</td></tr><tr><td>Michael Jordan</td><td>1996</td><td>1997</td><td>Retained</td><td>{1996,1997}</td><td>1997</td></tr><tr><td>Michael Jordan</td><td>1996</td><td>1997</td><td>Churned</td><td>{1996,1997}</td><td>1998</td></tr><tr><td>Michael Jordan</td><td>1996</td><td>1997</td><td>Stale</td><td>{1996,1997}</td><td>1999</td></tr><tr><td>Michael Jordan</td><td>1996</td><td>1997</td><td>Stale</td><td>{1996,1997}</td><td>2000</td></tr><tr><td>Michael Jordan</td><td>1996</td><td>2001</td><td>Resurrected</td><td>{1996,1997,2001}</td><td>2001</td></tr><tr><td>Michael Jordan</td><td>1996</td><td>2002</td><td>Retained</td><td>{1996,1997,2001,2002}</td><td>2002</td></tr><tr><td>Michael Jordan</td><td>1996</td><td>2002</td><td>Churned</td><td>{1996,1997,2001,2002}</td><td>2003</td></tr><tr><td>Michael Jordan</td><td>1996</td><td>2002</td><td>Stale</td><td>{1996,1997,2001,2002}</td><td>2004</td></tr><tr><td>Michael Jordan</td><td>1996</td><td>2002</td><td>Stale</td><td>{1996,1997,2001,2002}</td><td>2005</td></tr><tr><td>Michael Jordan</td><td>1996</td><td>2002</td><td>Stale</td><td>{1996,1997,2001,2002}</td><td>2006</td></tr><tr><td>Michael Jordan</td><td>1996</td><td>2002</td><td>Stale</td><td>{1996,1997,2001,2002}</td><td>2007</td></tr><tr><td>Michael Jordan</td><td>1996</td><td>2002</td><td>Stale</td><td>{1996,1997,2001,2002}</td><td>2008</td></tr><tr><td>Michael Jordan</td><td>1996</td><td>2002</td><td>Stale</td><td>{1996,1997,2001,2002}</td><td>2009</td></tr><tr><td>Michael Jordan</td><td>1996</td><td>2002</td><td>Stale</td><td>{1996,1997,2001,2002}</td><td>2010</td></tr><tr><td>Michael Jordan</td><td>1996</td><td>2002</td><td>Stale</td><td>{1996,1997,2001,2002}</td><td>2011</td></tr><tr><td>Michael Jordan</td><td>1996</td><td>2002</td><td>Stale</td><td>{1996,1997,2001,2002}</td><td>2012</td></tr><tr><td>Michael Jordan</td><td>1996</td><td>2002</td><td>Stale</td><td>{1996,1997,2001,2002}</td><td>2013</td></tr><tr><td>Michael Jordan</td><td>1996</td><td>2002</td><td>Stale</td><td>{1996,1997,2001,2002}</td><td>2014</td></tr><tr><td>Michael Jordan</td><td>1996</td><td>2002</td><td>Stale</td><td>{1996,1997,2001,2002}</td><td>2015</td></tr><tr><td>Michael Jordan</td><td>1996</td><td>2002</td><td>Stale</td><td>{1996,1997,2001,2002}</td><td>2016</td></tr><tr><td>Michael Jordan</td><td>1996</td><td>2002</td><td>Stale</td><td>{1996,1997,2001,2002}</td><td>2017</td></tr><tr><td>Michael Jordan</td><td>1996</td><td>2002</td><td>Stale</td><td>{1996,1997,2001,2002}</td><td>2018</td></tr><tr><td>Michael Jordan</td><td>1996</td><td>2002</td><td>Stale</td><td>{1996,1997,2001,2002}</td><td>2019</td></tr><tr><td>Michael Jordan</td><td>1996</td><td>2002</td><td>Stale</td><td>{1996,1997,2001,2002}</td><td>2020</td></tr><tr><td>Michael Jordan</td><td>1996</td><td>2002</td><td>Stale</td><td>{1996,1997,2001,2002}</td><td>2021</td></tr><tr><td>Michael Jordan</td><td>1996</td><td>2002</td><td>Stale</td><td>{1996,1997,2001,2002}</td><td>2022</td></tr></table>"
                        ]
                    },
                    "execution_count": 217,
                    "metadata": {},
                    "output_type": "execute_result"
                }
            ],
            "source": [
                "SELECT * \n",
                "FROM player_state_tracking\n",
                "WHERE player_name = 'Michael Jordan'"
            ]
        },
        {
            "attachments": {},
            "cell_type": "markdown",
            "metadata": {
                "azdata_cell_guid": "60482c19-e21f-4714-a4f4-05750f19e5f6"
            },
            "source": [
                "**Problem 2:** \n",
                "\n",
                "Write a query that uses GROUPING SETS to do efficient aggregations of game\\_details data\n",
                "\n",
                "1\\. Aggregate this dataset along with following dimensions: \n",
                "\n",
                "\\- player and team: who score the most points playing for one team?\n",
                "\n",
                "\\- player and season: who scored the most points in a single season?\n",
                "\n",
                "\\-team: which team has won the most games?"
            ]
        },
        {
            "cell_type": "code",
            "execution_count": 24,
            "metadata": {
                "azdata_cell_guid": "53d58637-1bdd-43f0-ab50-672363f6c98f",
                "language": "sql"
            },
            "outputs": [
                {
                    "data": {
                        "text/html": [
                            "(9 row(s) affected)"
                        ]
                    },
                    "metadata": {},
                    "output_type": "display_data"
                },
                {
                    "data": {
                        "text/html": [
                            "Total execution time: 00:00:00.025"
                        ]
                    },
                    "metadata": {},
                    "output_type": "display_data"
                },
                {
                    "data": {
                        "application/vnd.dataresource+json": {
                            "data": [
                                {
                                    "dim_season": "2022",
                                    "dim_team_id": "1610612752",
                                    "sum": "4115"
                                },
                                {
                                    "dim_season": "2016",
                                    "dim_team_id": "1610612752",
                                    "sum": "9209"
                                },
                                {
                                    "dim_season": "2019",
                                    "dim_team_id": "1610612752",
                                    "sum": "7398"
                                },
                                {
                                    "dim_season": "2018",
                                    "dim_team_id": "1610612752",
                                    "sum": "9117"
                                },
                                {
                                    "dim_season": "2017",
                                    "dim_team_id": "1610612752",
                                    "sum": "9054"
                                },
                                {
                                    "dim_season": "2015",
                                    "dim_team_id": "1610612752",
                                    "sum": "4831"
                                },
                                {
                                    "dim_season": "2020",
                                    "dim_team_id": "1610612752",
                                    "sum": "8591"
                                },
                                {
                                    "dim_season": "2021",
                                    "dim_team_id": "1610612752",
                                    "sum": "9196"
                                },
                                {
                                    "dim_season": "NULL",
                                    "dim_team_id": "1610612752",
                                    "sum": "61511"
                                }
                            ],
                            "schema": {
                                "fields": [
                                    {
                                        "name": "dim_team_id"
                                    },
                                    {
                                        "name": "dim_season"
                                    },
                                    {
                                        "name": "sum"
                                    }
                                ]
                            }
                        },
                        "text/html": [
                            "<table>\n",
                            "<tr><th>dim_team_id</th><th>dim_season</th><th>sum</th></tr>\n",
                            "<tr><td>1610612752</td><td>2022</td><td>4115</td></tr>\n",
                            "<tr><td>1610612752</td><td>2016</td><td>9209</td></tr>\n",
                            "<tr><td>1610612752</td><td>2019</td><td>7398</td></tr>\n",
                            "<tr><td>1610612752</td><td>2018</td><td>9117</td></tr>\n",
                            "<tr><td>1610612752</td><td>2017</td><td>9054</td></tr>\n",
                            "<tr><td>1610612752</td><td>2015</td><td>4831</td></tr>\n",
                            "<tr><td>1610612752</td><td>2020</td><td>8591</td></tr>\n",
                            "<tr><td>1610612752</td><td>2021</td><td>9196</td></tr>\n",
                            "<tr><td>1610612752</td><td>NULL</td><td>61511</td></tr>\n",
                            "</table>"
                        ]
                    },
                    "execution_count": 24,
                    "metadata": {},
                    "output_type": "execute_result"
                }
            ],
            "source": [
                "-- Determine which team has the most points across all seasons and per season\n",
                "SELECT \n",
                "    dim_team_id\n",
                "    , dim_season\n",
                "    , SUM(M_pts)\n",
                "FROM fct_game_details\n",
                "WHERE dim_team_id = '1610612752'\n",
                "GROUP BY GROUPING SETS(\n",
                "    (dim_team_id)\n",
                "    , (dim_team_id, dim_season)\n",
                "    )\n"
            ]
        },
        {
            "cell_type": "code",
            "execution_count": 55,
            "metadata": {
                "azdata_cell_guid": "2ef7f293-4ef1-4040-aea5-5b10a556cf26",
                "language": "sql"
            },
            "outputs": [
                {
                    "data": {
                        "text/html": [
                            "(9 row(s) affected)"
                        ]
                    },
                    "metadata": {},
                    "output_type": "display_data"
                },
                {
                    "data": {
                        "text/html": [
                            "Total execution time: 00:00:00.028"
                        ]
                    },
                    "metadata": {},
                    "output_type": "display_data"
                },
                {
                    "data": {
                        "application/vnd.dataresource+json": {
                            "data": [
                                {
                                    "dim_player_name": "Stephen Curry",
                                    "dim_season": "2015",
                                    "dim_team_id": "NULL",
                                    "total_points": "1911"
                                },
                                {
                                    "dim_player_name": "Stephen Curry",
                                    "dim_season": "2016",
                                    "dim_team_id": "NULL",
                                    "total_points": "2614"
                                },
                                {
                                    "dim_player_name": "Stephen Curry",
                                    "dim_season": "2017",
                                    "dim_team_id": "NULL",
                                    "total_points": "1811"
                                },
                                {
                                    "dim_player_name": "Stephen Curry",
                                    "dim_season": "2018",
                                    "dim_team_id": "NULL",
                                    "total_points": "2584"
                                },
                                {
                                    "dim_player_name": "Stephen Curry",
                                    "dim_season": "2019",
                                    "dim_team_id": "NULL",
                                    "total_points": "211"
                                },
                                {
                                    "dim_player_name": "Stephen Curry",
                                    "dim_season": "2020",
                                    "dim_team_id": "NULL",
                                    "total_points": "2159"
                                },
                                {
                                    "dim_player_name": "Stephen Curry",
                                    "dim_season": "2021",
                                    "dim_team_id": "NULL",
                                    "total_points": "2330"
                                },
                                {
                                    "dim_player_name": "Stephen Curry",
                                    "dim_season": "2022",
                                    "dim_team_id": "NULL",
                                    "total_points": "840"
                                },
                                {
                                    "dim_player_name": "Stephen Curry",
                                    "dim_season": "NULL",
                                    "dim_team_id": "1610612744",
                                    "total_points": "14460"
                                }
                            ],
                            "schema": {
                                "fields": [
                                    {
                                        "name": "dim_player_name"
                                    },
                                    {
                                        "name": "dim_team_id"
                                    },
                                    {
                                        "name": "dim_season"
                                    },
                                    {
                                        "name": "total_points"
                                    }
                                ]
                            }
                        },
                        "text/html": [
                            "<table>\n",
                            "<tr><th>dim_player_name</th><th>dim_team_id</th><th>dim_season</th><th>total_points</th></tr>\n",
                            "<tr><td>Stephen Curry</td><td>NULL</td><td>2015</td><td>1911</td></tr>\n",
                            "<tr><td>Stephen Curry</td><td>NULL</td><td>2016</td><td>2614</td></tr>\n",
                            "<tr><td>Stephen Curry</td><td>NULL</td><td>2017</td><td>1811</td></tr>\n",
                            "<tr><td>Stephen Curry</td><td>NULL</td><td>2018</td><td>2584</td></tr>\n",
                            "<tr><td>Stephen Curry</td><td>NULL</td><td>2019</td><td>211</td></tr>\n",
                            "<tr><td>Stephen Curry</td><td>NULL</td><td>2020</td><td>2159</td></tr>\n",
                            "<tr><td>Stephen Curry</td><td>NULL</td><td>2021</td><td>2330</td></tr>\n",
                            "<tr><td>Stephen Curry</td><td>NULL</td><td>2022</td><td>840</td></tr>\n",
                            "<tr><td>Stephen Curry</td><td>1610612744</td><td>NULL</td><td>14460</td></tr>\n",
                            "</table>"
                        ]
                    },
                    "execution_count": 55,
                    "metadata": {},
                    "output_type": "execute_result"
                }
            ],
            "source": [
                "-- Find the player, team, and seasons to see who scored the most points in a season or for playing in one team\n",
                "SELECT \n",
                "    dim_player_name\n",
                "    , dim_team_id\n",
                "    , dim_season\n",
                "    , SUM(M_pts) AS total_points\n",
                "FROM fct_game_details\n",
                "WHERE M_pts IS NOT NULL AND dim_player_name = 'Stephen Curry'\n",
                "GROUP BY GROUPING SETS(\n",
                "    (dim_player_name, dim_team_id)\n",
                "    , (dim_player_name, dim_season)\n",
                "    )\n",
                "ORDER BY dim_season, dim_team_id"
            ]
        },
        {
            "cell_type": "code",
            "execution_count": 68,
            "metadata": {
                "azdata_cell_guid": "02462ad7-f3dc-4fc0-8c21-d14c759d09e0",
                "language": "sql"
            },
            "outputs": [
                {
                    "data": {
                        "text/html": [
                            "(1 row(s) affected)"
                        ]
                    },
                    "metadata": {},
                    "output_type": "display_data"
                },
                {
                    "data": {
                        "text/html": [
                            "Total execution time: 00:00:00.088"
                        ]
                    },
                    "metadata": {},
                    "output_type": "display_data"
                },
                {
                    "data": {
                        "application/vnd.dataresource+json": {
                            "data": [
                                {
                                    "dim_player_name": "Giannis Antetokounmpo",
                                    "dim_team_id": "1610612749",
                                    "total_points": "15556"
                                }
                            ],
                            "schema": {
                                "fields": [
                                    {
                                        "name": "dim_player_name"
                                    },
                                    {
                                        "name": "dim_team_id"
                                    },
                                    {
                                        "name": "total_points"
                                    }
                                ]
                            }
                        },
                        "text/html": [
                            "<table>\n",
                            "<tr><th>dim_player_name</th><th>dim_team_id</th><th>total_points</th></tr>\n",
                            "<tr><td>Giannis Antetokounmpo</td><td>1610612749</td><td>15556</td></tr>\n",
                            "</table>"
                        ]
                    },
                    "execution_count": 68,
                    "metadata": {},
                    "output_type": "execute_result"
                }
            ],
            "source": [
                "-- Find the player who scored the most points for one team \n",
                "WITH aggregated_team_season_player AS (\n",
                "SELECT \n",
                "    dim_player_name\n",
                "    , dim_team_id\n",
                "    , dim_season\n",
                "    , SUM(M_pts) AS total_points\n",
                "FROM fct_game_details\n",
                "WHERE M_pts IS NOT NULL \n",
                "    -- AND dim_player_name = 'Stephen Curry'\n",
                "GROUP BY GROUPING SETS(\n",
                "    (dim_player_name, dim_team_id)\n",
                "    , (dim_player_name, dim_season)\n",
                "    )\n",
                ")\n",
                "SELECT \n",
                "    dim_player_name\n",
                "    , dim_team_id\n",
                "    , total_points\n",
                "FROM aggregated_team_season_player\n",
                "WHERE dim_season IS NULL\n",
                "GROUP BY dim_player_name, dim_team_id, total_points\n",
                "ORDER BY total_points DESC\n",
                "LIMIT 1\n"
            ]
        },
        {
            "cell_type": "code",
            "execution_count": 101,
            "metadata": {
                "azdata_cell_guid": "854dc299-1713-425f-8cd2-be13ed1b5b06",
                "language": "sql"
            },
            "outputs": [
                {
                    "data": {
                        "text/html": [
                            "(8 row(s) affected)"
                        ]
                    },
                    "metadata": {},
                    "output_type": "display_data"
                },
                {
                    "data": {
                        "text/html": [
                            "Total execution time: 00:00:00.029"
                        ]
                    },
                    "metadata": {},
                    "output_type": "display_data"
                },
                {
                    "data": {
                        "application/vnd.dataresource+json": {
                            "data": [
                                {
                                    "dim_player_name": "LeBron James",
                                    "dim_season": "2017",
                                    "total_points": "3016"
                                },
                                {
                                    "dim_player_name": "LeBron James",
                                    "dim_season": "2016",
                                    "total_points": "2585"
                                },
                                {
                                    "dim_player_name": "LeBron James",
                                    "dim_season": "2019",
                                    "total_points": "2369"
                                },
                                {
                                    "dim_player_name": "LeBron James",
                                    "dim_season": "2021",
                                    "total_points": "1751"
                                },
                                {
                                    "dim_player_name": "LeBron James",
                                    "dim_season": "2015",
                                    "total_points": "1728"
                                },
                                {
                                    "dim_player_name": "LeBron James",
                                    "dim_season": "2018",
                                    "total_points": "1560"
                                },
                                {
                                    "dim_player_name": "LeBron James",
                                    "dim_season": "2020",
                                    "total_points": "1319"
                                },
                                {
                                    "dim_player_name": "LeBron James",
                                    "dim_season": "2022",
                                    "total_points": "686"
                                }
                            ],
                            "schema": {
                                "fields": [
                                    {
                                        "name": "dim_player_name"
                                    },
                                    {
                                        "name": "dim_season"
                                    },
                                    {
                                        "name": "total_points"
                                    }
                                ]
                            }
                        },
                        "text/html": [
                            "<table>\n",
                            "<tr><th>dim_player_name</th><th>dim_season</th><th>total_points</th></tr>\n",
                            "<tr><td>LeBron James</td><td>2017</td><td>3016</td></tr>\n",
                            "<tr><td>LeBron James</td><td>2016</td><td>2585</td></tr>\n",
                            "<tr><td>LeBron James</td><td>2019</td><td>2369</td></tr>\n",
                            "<tr><td>LeBron James</td><td>2021</td><td>1751</td></tr>\n",
                            "<tr><td>LeBron James</td><td>2015</td><td>1728</td></tr>\n",
                            "<tr><td>LeBron James</td><td>2018</td><td>1560</td></tr>\n",
                            "<tr><td>LeBron James</td><td>2020</td><td>1319</td></tr>\n",
                            "<tr><td>LeBron James</td><td>2022</td><td>686</td></tr>\n",
                            "</table>"
                        ]
                    },
                    "execution_count": 101,
                    "metadata": {},
                    "output_type": "execute_result"
                }
            ],
            "source": [
                "-- Find the player who scored the most points in one season\n",
                "-- Find the player who scored the most points for one team \n",
                "WITH aggregated_team_season_player AS (\n",
                "SELECT \n",
                "    dim_player_name\n",
                "    , dim_team_id\n",
                "    , dim_season\n",
                "    , SUM(M_pts) AS total_points\n",
                "FROM fct_game_details\n",
                "WHERE M_pts IS NOT NULL \n",
                "    -- AND dim_player_name = 'LeBron James'\n",
                "GROUP BY GROUPING SETS(\n",
                "    (dim_player_name, dim_team_id)\n",
                "    , (dim_player_name, dim_season)\n",
                "    )\n",
                ")\n",
                "SELECT \n",
                "    dim_player_name\n",
                "    , dim_season\n",
                "    , total_points\n",
                "FROM aggregated_team_season_player\n",
                "WHERE dim_season IS NOT NULL\n",
                "GROUP BY dim_player_name, dim_season, total_points\n",
                "ORDER BY total_points DESC\n",
                "-- LIMIT 1\n"
            ]
        },
        {
            "cell_type": "code",
            "execution_count": 99,
            "metadata": {
                "azdata_cell_guid": "f01d583b-d113-4608-ba44-361900845f7d",
                "language": "sql"
            },
            "outputs": [
                {
                    "data": {
                        "text/html": [
                            "(270 row(s) affected)"
                        ]
                    },
                    "metadata": {},
                    "output_type": "display_data"
                },
                {
                    "data": {
                        "text/html": [
                            "Total execution time: 00:00:00.125"
                        ]
                    },
                    "metadata": {},
                    "output_type": "display_data"
                },
                {
                    "data": {
                        "application/vnd.dataresource+json": {
                            "data": [
                                {
                                    "season": "NULL",
                                    "team_abbreviation": "GSW",
                                    "total_wins": "445"
                                },
                                {
                                    "season": "NULL",
                                    "team_abbreviation": "BOS",
                                    "total_wins": "416"
                                },
                                {
                                    "season": "NULL",
                                    "team_abbreviation": "TOR",
                                    "total_wins": "410"
                                },
                                {
                                    "season": "NULL",
                                    "team_abbreviation": "MIL",
                                    "total_wins": "399"
                                },
                                {
                                    "season": "NULL",
                                    "team_abbreviation": "UTA",
                                    "total_wins": "377"
                                },
                                {
                                    "season": "NULL",
                                    "team_abbreviation": "LAC",
                                    "total_wins": "366"
                                },
                                {
                                    "season": "NULL",
                                    "team_abbreviation": "MIA",
                                    "total_wins": "365"
                                },
                                {
                                    "season": "NULL",
                                    "team_abbreviation": "DEN",
                                    "total_wins": "363"
                                },
                                {
                                    "season": "NULL",
                                    "team_abbreviation": "PHI",
                                    "total_wins": "342"
                                },
                                {
                                    "season": "NULL",
                                    "team_abbreviation": "SAS",
                                    "total_wins": "339"
                                },
                                {
                                    "season": "NULL",
                                    "team_abbreviation": "HOU",
                                    "total_wins": "339"
                                },
                                {
                                    "season": "NULL",
                                    "team_abbreviation": "POR",
                                    "total_wins": "323"
                                },
                                {
                                    "season": "NULL",
                                    "team_abbreviation": "OKC",
                                    "total_wins": "314"
                                },
                                {
                                    "season": "NULL",
                                    "team_abbreviation": "CLE",
                                    "total_wins": "314"
                                },
                                {
                                    "season": "NULL",
                                    "team_abbreviation": "IND",
                                    "total_wins": "307"
                                },
                                {
                                    "season": "NULL",
                                    "team_abbreviation": "DAL",
                                    "total_wins": "300"
                                },
                                {
                                    "season": "NULL",
                                    "team_abbreviation": "MEM",
                                    "total_wins": "300"
                                },
                                {
                                    "season": "NULL",
                                    "team_abbreviation": "LAL",
                                    "total_wins": "285"
                                },
                                {
                                    "season": "NULL",
                                    "team_abbreviation": "WAS",
                                    "total_wins": "282"
                                },
                                {
                                    "season": "NULL",
                                    "team_abbreviation": "PHX",
                                    "total_wins": "278"
                                },
                                {
                                    "season": "NULL",
                                    "team_abbreviation": "ATL",
                                    "total_wins": "278"
                                },
                                {
                                    "season": "NULL",
                                    "team_abbreviation": "NOP",
                                    "total_wins": "277"
                                },
                                {
                                    "season": "NULL",
                                    "team_abbreviation": "BKN",
                                    "total_wins": "274"
                                },
                                {
                                    "season": "NULL",
                                    "team_abbreviation": "CHA",
                                    "total_wins": "264"
                                },
                                {
                                    "season": "NULL",
                                    "team_abbreviation": "MIN",
                                    "total_wins": "256"
                                },
                                {
                                    "season": "NULL",
                                    "team_abbreviation": "CHI",
                                    "total_wins": "249"
                                },
                                {
                                    "season": "NULL",
                                    "team_abbreviation": "SAC",
                                    "total_wins": "245"
                                },
                                {
                                    "season": "NULL",
                                    "team_abbreviation": "NYK",
                                    "total_wins": "230"
                                },
                                {
                                    "season": "NULL",
                                    "team_abbreviation": "DET",
                                    "total_wins": "228"
                                },
                                {
                                    "season": "NULL",
                                    "team_abbreviation": "ORL",
                                    "total_wins": "219"
                                },
                                {
                                    "season": "2016",
                                    "team_abbreviation": "GSW",
                                    "total_wins": "89"
                                },
                                {
                                    "season": "2017",
                                    "team_abbreviation": "HOU",
                                    "total_wins": "79"
                                },
                                {
                                    "season": "2018",
                                    "team_abbreviation": "TOR",
                                    "total_wins": "77"
                                },
                                {
                                    "season": "2017",
                                    "team_abbreviation": "GSW",
                                    "total_wins": "76"
                                },
                                {
                                    "season": "2021",
                                    "team_abbreviation": "PHX",
                                    "total_wins": "74"
                                },
                                {
                                    "season": "2021",
                                    "team_abbreviation": "GSW",
                                    "total_wins": "74"
                                },
                                {
                                    "season": "2016",
                                    "team_abbreviation": "SAS",
                                    "total_wins": "73"
                                },
                                {
                                    "season": "2018",
                                    "team_abbreviation": "MIL",
                                    "total_wins": "73"
                                },
                                {
                                    "season": "2019",
                                    "team_abbreviation": "LAL",
                                    "total_wins": "73"
                                },
                                {
                                    "season": "2018",
                                    "team_abbreviation": "GSW",
                                    "total_wins": "72"
                                },
                                {
                                    "season": "2017",
                                    "team_abbreviation": "BOS",
                                    "total_wins": "70"
                                },
                                {
                                    "season": "2021",
                                    "team_abbreviation": "MIA",
                                    "total_wins": "69"
                                },
                                {
                                    "season": "2019",
                                    "team_abbreviation": "MIL",
                                    "total_wins": "68"
                                },
                                {
                                    "season": "2016",
                                    "team_abbreviation": "BOS",
                                    "total_wins": "67"
                                },
                                {
                                    "season": "2021",
                                    "team_abbreviation": "BOS",
                                    "total_wins": "67"
                                },
                                {
                                    "season": "2016",
                                    "team_abbreviation": "CLE",
                                    "total_wins": "66"
                                },
                                {
                                    "season": "2017",
                                    "team_abbreviation": "TOR",
                                    "total_wins": "66"
                                },
                                {
                                    "season": "2016",
                                    "team_abbreviation": "HOU",
                                    "total_wins": "65"
                                },
                                {
                                    "season": "2020",
                                    "team_abbreviation": "PHX",
                                    "total_wins": "65"
                                },
                                {
                                    "season": "2021",
                                    "team_abbreviation": "MEM",
                                    "total_wins": "65"
                                },
                                {
                                    "season": "2021",
                                    "team_abbreviation": "DAL",
                                    "total_wins": "65"
                                },
                                {
                                    "season": "2018",
                                    "team_abbreviation": "POR",
                                    "total_wins": "64"
                                },
                                {
                                    "season": "2018",
                                    "team_abbreviation": "DEN",
                                    "total_wins": "64"
                                },
                                {
                                    "season": "2019",
                                    "team_abbreviation": "TOR",
                                    "total_wins": "64"
                                },
                                {
                                    "season": "2017",
                                    "team_abbreviation": "CLE",
                                    "total_wins": "63"
                                },
                                {
                                    "season": "2019",
                                    "team_abbreviation": "MIA",
                                    "total_wins": "63"
                                },
                                {
                                    "season": "2019",
                                    "team_abbreviation": "BOS",
                                    "total_wins": "63"
                                },
                                {
                                    "season": "2018",
                                    "team_abbreviation": "HOU",
                                    "total_wins": "62"
                                },
                                {
                                    "season": "2020",
                                    "team_abbreviation": "MIL",
                                    "total_wins": "62"
                                },
                                {
                                    "season": "2020",
                                    "team_abbreviation": "UTA",
                                    "total_wins": "61"
                                },
                                {
                                    "season": "2016",
                                    "team_abbreviation": "WAS",
                                    "total_wins": "60"
                                },
                                {
                                    "season": "2018",
                                    "team_abbreviation": "PHI",
                                    "total_wins": "60"
                                },
                                {
                                    "season": "2019",
                                    "team_abbreviation": "DEN",
                                    "total_wins": "60"
                                },
                                {
                                    "season": "2017",
                                    "team_abbreviation": "PHI",
                                    "total_wins": "59"
                                },
                                {
                                    "season": "2021",
                                    "team_abbreviation": "PHI",
                                    "total_wins": "59"
                                },
                                {
                                    "season": "2021",
                                    "team_abbreviation": "MIL",
                                    "total_wins": "59"
                                },
                                {
                                    "season": "2015",
                                    "team_abbreviation": "GSW",
                                    "total_wins": "58"
                                },
                                {
                                    "season": "2016",
                                    "team_abbreviation": "UTA",
                                    "total_wins": "58"
                                },
                                {
                                    "season": "2016",
                                    "team_abbreviation": "TOR",
                                    "total_wins": "58"
                                },
                                {
                                    "season": "2019",
                                    "team_abbreviation": "LAC",
                                    "total_wins": "58"
                                },
                                {
                                    "season": "2020",
                                    "team_abbreviation": "PHI",
                                    "total_wins": "58"
                                },
                                {
                                    "season": "2016",
                                    "team_abbreviation": "LAC",
                                    "total_wins": "57"
                                },
                                {
                                    "season": "2020",
                                    "team_abbreviation": "BKN",
                                    "total_wins": "57"
                                },
                                {
                                    "season": "2020",
                                    "team_abbreviation": "LAC",
                                    "total_wins": "57"
                                },
                                {
                                    "season": "2017",
                                    "team_abbreviation": "UTA",
                                    "total_wins": "56"
                                },
                                {
                                    "season": "2018",
                                    "team_abbreviation": "BOS",
                                    "total_wins": "55"
                                },
                                {
                                    "season": "2017",
                                    "team_abbreviation": "NOP",
                                    "total_wins": "54"
                                },
                                {
                                    "season": "2018",
                                    "team_abbreviation": "SAS",
                                    "total_wins": "54"
                                },
                                {
                                    "season": "2018",
                                    "team_abbreviation": "UTA",
                                    "total_wins": "54"
                                },
                                {
                                    "season": "2019",
                                    "team_abbreviation": "HOU",
                                    "total_wins": "54"
                                },
                                {
                                    "season": "2017",
                                    "team_abbreviation": "POR",
                                    "total_wins": "53"
                                },
                                {
                                    "season": "2017",
                                    "team_abbreviation": "IND",
                                    "total_wins": "53"
                                },
                                {
                                    "season": "2018",
                                    "team_abbreviation": "LAC",
                                    "total_wins": "53"
                                },
                                {
                                    "season": "2018",
                                    "team_abbreviation": "OKC",
                                    "total_wins": "53"
                                },
                                {
                                    "season": "2020",
                                    "team_abbreviation": "DEN",
                                    "total_wins": "53"
                                },
                                {
                                    "season": "2020",
                                    "team_abbreviation": "ATL",
                                    "total_wins": "53"
                                },
                                {
                                    "season": "2021",
                                    "team_abbreviation": "TOR",
                                    "total_wins": "53"
                                },
                                {
                                    "season": "2021",
                                    "team_abbreviation": "UTA",
                                    "total_wins": "53"
                                },
                                {
                                    "season": "2015",
                                    "team_abbreviation": "CLE",
                                    "total_wins": "52"
                                },
                                {
                                    "season": "2017",
                                    "team_abbreviation": "OKC",
                                    "total_wins": "52"
                                },
                                {
                                    "season": "2021",
                                    "team_abbreviation": "MIN",
                                    "total_wins": "52"
                                },
                                {
                                    "season": "2017",
                                    "team_abbreviation": "SAS",
                                    "total_wins": "51"
                                },
                                {
                                    "season": "2019",
                                    "team_abbreviation": "OKC",
                                    "total_wins": "51"
                                },
                                {
                                    "season": "2021",
                                    "team_abbreviation": "CHI",
                                    "total_wins": "51"
                                },
                                {
                                    "season": "2016",
                                    "team_abbreviation": "ATL",
                                    "total_wins": "50"
                                },
                                {
                                    "season": "2016",
                                    "team_abbreviation": "OKC",
                                    "total_wins": "50"
                                },
                                {
                                    "season": "2017",
                                    "team_abbreviation": "MIN",
                                    "total_wins": "50"
                                },
                                {
                                    "season": "2018",
                                    "team_abbreviation": "IND",
                                    "total_wins": "50"
                                },
                                {
                                    "season": "2019",
                                    "team_abbreviation": "IND",
                                    "total_wins": "50"
                                },
                                {
                                    "season": "2021",
                                    "team_abbreviation": "DEN",
                                    "total_wins": "50"
                                },
                                {
                                    "season": "2016",
                                    "team_abbreviation": "MEM",
                                    "total_wins": "49"
                                },
                                {
                                    "season": "2017",
                                    "team_abbreviation": "DEN",
                                    "total_wins": "49"
                                },
                                {
                                    "season": "2019",
                                    "team_abbreviation": "UTA",
                                    "total_wins": "49"
                                },
                                {
                                    "season": "2019",
                                    "team_abbreviation": "DAL",
                                    "total_wins": "49"
                                },
                                {
                                    "season": "2020",
                                    "team_abbreviation": "LAL",
                                    "total_wins": "49"
                                },
                                {
                                    "season": "2017",
                                    "team_abbreviation": "MIL",
                                    "total_wins": "48"
                                },
                                {
                                    "season": "2017",
                                    "team_abbreviation": "WAS",
                                    "total_wins": "48"
                                },
                                {
                                    "season": "2017",
                                    "team_abbreviation": "MIA",
                                    "total_wins": "48"
                                },
                                {
                                    "season": "2021",
                                    "team_abbreviation": "BKN",
                                    "total_wins": "48"
                                },
                                {
                                    "season": "2021",
                                    "team_abbreviation": "ATL",
                                    "total_wins": "48"
                                },
                                {
                                    "season": "2016",
                                    "team_abbreviation": "MIL",
                                    "total_wins": "47"
                                },
                                {
                                    "season": "2019",
                                    "team_abbreviation": "PHI",
                                    "total_wins": "47"
                                },
                                {
                                    "season": "2020",
                                    "team_abbreviation": "DAL",
                                    "total_wins": "47"
                                },
                                {
                                    "season": "2015",
                                    "team_abbreviation": "TOR",
                                    "total_wins": "46"
                                },
                                {
                                    "season": "2016",
                                    "team_abbreviation": "CHI",
                                    "total_wins": "46"
                                },
                                {
                                    "season": "2021",
                                    "team_abbreviation": "CLE",
                                    "total_wins": "46"
                                },
                                {
                                    "season": "2015",
                                    "team_abbreviation": "SAS",
                                    "total_wins": "45"
                                },
                                {
                                    "season": "2016",
                                    "team_abbreviation": "IND",
                                    "total_wins": "45"
                                },
                                {
                                    "season": "2016",
                                    "team_abbreviation": "MIA",
                                    "total_wins": "45"
                                },
                                {
                                    "season": "2018",
                                    "team_abbreviation": "BKN",
                                    "total_wins": "45"
                                },
                                {
                                    "season": "2020",
                                    "team_abbreviation": "NYK",
                                    "total_wins": "45"
                                },
                                {
                                    "season": "2020",
                                    "team_abbreviation": "POR",
                                    "total_wins": "45"
                                },
                                {
                                    "season": "2016",
                                    "team_abbreviation": "DEN",
                                    "total_wins": "44"
                                },
                                {
                                    "season": "2016",
                                    "team_abbreviation": "POR",
                                    "total_wins": "44"
                                },
                                {
                                    "season": "2017",
                                    "team_abbreviation": "LAC",
                                    "total_wins": "44"
                                },
                                {
                                    "season": "2018",
                                    "team_abbreviation": "ORL",
                                    "total_wins": "44"
                                },
                                {
                                    "season": "2020",
                                    "team_abbreviation": "MEM",
                                    "total_wins": "44"
                                },
                                {
                                    "season": "2021",
                                    "team_abbreviation": "CHA",
                                    "total_wins": "44"
                                },
                                {
                                    "season": "2015",
                                    "team_abbreviation": "OKC",
                                    "total_wins": "43"
                                },
                                {
                                    "season": "2018",
                                    "team_abbreviation": "CHA",
                                    "total_wins": "43"
                                },
                                {
                                    "season": "2018",
                                    "team_abbreviation": "DET",
                                    "total_wins": "43"
                                },
                                {
                                    "season": "2021",
                                    "team_abbreviation": "LAC",
                                    "total_wins": "43"
                                },
                                {
                                    "season": "2018",
                                    "team_abbreviation": "MIA",
                                    "total_wins": "42"
                                },
                                {
                                    "season": "2017",
                                    "team_abbreviation": "DET",
                                    "total_wins": "41"
                                },
                                {
                                    "season": "2020",
                                    "team_abbreviation": "GSW",
                                    "total_wins": "41"
                                },
                                {
                                    "season": "2020",
                                    "team_abbreviation": "MIA",
                                    "total_wins": "41"
                                },
                                {
                                    "season": "2021",
                                    "team_abbreviation": "NOP",
                                    "total_wins": "41"
                                },
                                {
                                    "season": "2021",
                                    "team_abbreviation": "NYK",
                                    "total_wins": "41"
                                },
                                {
                                    "season": "2016",
                                    "team_abbreviation": "DET",
                                    "total_wins": "40"
                                },
                                {
                                    "season": "2018",
                                    "team_abbreviation": "SAC",
                                    "total_wins": "40"
                                },
                                {
                                    "season": "2018",
                                    "team_abbreviation": "LAL",
                                    "total_wins": "40"
                                },
                                {
                                    "season": "2016",
                                    "team_abbreviation": "CHA",
                                    "total_wins": "39"
                                },
                                {
                                    "season": "2017",
                                    "team_abbreviation": "CHA",
                                    "total_wins": "38"
                                },
                                {
                                    "season": "2019",
                                    "team_abbreviation": "BKN",
                                    "total_wins": "38"
                                },
                                {
                                    "season": "2019",
                                    "team_abbreviation": "PHX",
                                    "total_wins": "38"
                                },
                                {
                                    "season": "2019",
                                    "team_abbreviation": "ORL",
                                    "total_wins": "38"
                                },
                                {
                                    "season": "2019",
                                    "team_abbreviation": "POR",
                                    "total_wins": "38"
                                },
                                {
                                    "season": "2019",
                                    "team_abbreviation": "NOP",
                                    "total_wins": "38"
                                },
                                {
                                    "season": "2020",
                                    "team_abbreviation": "BOS",
                                    "total_wins": "38"
                                },
                                {
                                    "season": "2015",
                                    "team_abbreviation": "MIA",
                                    "total_wins": "37"
                                },
                                {
                                    "season": "2017",
                                    "team_abbreviation": "LAL",
                                    "total_wins": "37"
                                },
                                {
                                    "season": "2018",
                                    "team_abbreviation": "MIN",
                                    "total_wins": "37"
                                },
                                {
                                    "season": "2020",
                                    "team_abbreviation": "WAS",
                                    "total_wins": "37"
                                },
                                {
                                    "season": "2021",
                                    "team_abbreviation": "SAS",
                                    "total_wins": "37"
                                },
                                {
                                    "season": "2016",
                                    "team_abbreviation": "MIN",
                                    "total_wins": "36"
                                },
                                {
                                    "season": "2019",
                                    "team_abbreviation": "MEM",
                                    "total_wins": "36"
                                },
                                {
                                    "season": "2015",
                                    "team_abbreviation": "POR",
                                    "total_wins": "35"
                                },
                                {
                                    "season": "2016",
                                    "team_abbreviation": "NOP",
                                    "total_wins": "35"
                                },
                                {
                                    "season": "2016",
                                    "team_abbreviation": "DAL",
                                    "total_wins": "35"
                                },
                                {
                                    "season": "2016",
                                    "team_abbreviation": "NYK",
                                    "total_wins": "35"
                                },
                                {
                                    "season": "2018",
                                    "team_abbreviation": "WAS",
                                    "total_wins": "35"
                                },
                                {
                                    "season": "2018",
                                    "team_abbreviation": "MEM",
                                    "total_wins": "35"
                                },
                                {
                                    "season": "2019",
                                    "team_abbreviation": "SAS",
                                    "total_wins": "35"
                                },
                                {
                                    "season": "2020",
                                    "team_abbreviation": "IND",
                                    "total_wins": "35"
                                },
                                {
                                    "season": "2021",
                                    "team_abbreviation": "WAS",
                                    "total_wins": "35"
                                },
                                {
                                    "season": "2015",
                                    "team_abbreviation": "CHA",
                                    "total_wins": "34"
                                },
                                {
                                    "season": "2015",
                                    "team_abbreviation": "LAC",
                                    "total_wins": "34"
                                },
                                {
                                    "season": "2016",
                                    "team_abbreviation": "SAC",
                                    "total_wins": "34"
                                },
                                {
                                    "season": "2018",
                                    "team_abbreviation": "DAL",
                                    "total_wins": "34"
                                },
                                {
                                    "season": "2019",
                                    "team_abbreviation": "SAC",
                                    "total_wins": "34"
                                },
                                {
                                    "season": "2020",
                                    "team_abbreviation": "CHI",
                                    "total_wins": "34"
                                },
                                {
                                    "season": "2020",
                                    "team_abbreviation": "CHA",
                                    "total_wins": "34"
                                },
                                {
                                    "season": "2021",
                                    "team_abbreviation": "SAC",
                                    "total_wins": "34"
                                },
                                {
                                    "season": "2018",
                                    "team_abbreviation": "NOP",
                                    "total_wins": "33"
                                },
                                {
                                    "season": "2020",
                                    "team_abbreviation": "SAC",
                                    "total_wins": "33"
                                },
                                {
                                    "season": "2020",
                                    "team_abbreviation": "SAS",
                                    "total_wins": "33"
                                },
                                {
                                    "season": "2020",
                                    "team_abbreviation": "NOP",
                                    "total_wins": "33"
                                },
                                {
                                    "season": "2021",
                                    "team_abbreviation": "LAL",
                                    "total_wins": "33"
                                },
                                {
                                    "season": "2015",
                                    "team_abbreviation": "BOS",
                                    "total_wins": "32"
                                },
                                {
                                    "season": "2015",
                                    "team_abbreviation": "ATL",
                                    "total_wins": "31"
                                },
                                {
                                    "season": "2016",
                                    "team_abbreviation": "ORL",
                                    "total_wins": "31"
                                },
                                {
                                    "season": "2017",
                                    "team_abbreviation": "BKN",
                                    "total_wins": "31"
                                },
                                {
                                    "season": "2018",
                                    "team_abbreviation": "ATL",
                                    "total_wins": "31"
                                },
                                {
                                    "season": "2015",
                                    "team_abbreviation": "IND",
                                    "total_wins": "30"
                                },
                                {
                                    "season": "2016",
                                    "team_abbreviation": "PHI",
                                    "total_wins": "30"
                                },
                                {
                                    "season": "2017",
                                    "team_abbreviation": "CHI",
                                    "total_wins": "30"
                                },
                                {
                                    "season": "2017",
                                    "team_abbreviation": "NYK",
                                    "total_wins": "29"
                                },
                                {
                                    "season": "2020",
                                    "team_abbreviation": "TOR",
                                    "total_wins": "29"
                                },
                                {
                                    "season": "2016",
                                    "team_abbreviation": "PHX",
                                    "total_wins": "28"
                                },
                                {
                                    "season": "2016",
                                    "team_abbreviation": "LAL",
                                    "total_wins": "28"
                                },
                                {
                                    "season": "2017",
                                    "team_abbreviation": "SAC",
                                    "total_wins": "28"
                                },
                                {
                                    "season": "2017",
                                    "team_abbreviation": "DAL",
                                    "total_wins": "28"
                                },
                                {
                                    "season": "2017",
                                    "team_abbreviation": "ORL",
                                    "total_wins": "28"
                                },
                                {
                                    "season": "2015",
                                    "team_abbreviation": "WAS",
                                    "total_wins": "27"
                                },
                                {
                                    "season": "2019",
                                    "team_abbreviation": "WAS",
                                    "total_wins": "27"
                                },
                                {
                                    "season": "2021",
                                    "team_abbreviation": "POR",
                                    "total_wins": "27"
                                },
                                {
                                    "season": "2021",
                                    "team_abbreviation": "IND",
                                    "total_wins": "27"
                                },
                                {
                                    "season": "2015",
                                    "team_abbreviation": "HOU",
                                    "total_wins": "26"
                                },
                                {
                                    "season": "2015",
                                    "team_abbreviation": "UTA",
                                    "total_wins": "26"
                                },
                                {
                                    "season": "2015",
                                    "team_abbreviation": "DET",
                                    "total_wins": "26"
                                },
                                {
                                    "season": "2017",
                                    "team_abbreviation": "ATL",
                                    "total_wins": "26"
                                },
                                {
                                    "season": "2017",
                                    "team_abbreviation": "MEM",
                                    "total_wins": "25"
                                },
                                {
                                    "season": "2021",
                                    "team_abbreviation": "DET",
                                    "total_wins": "25"
                                },
                                {
                                    "season": "2021",
                                    "team_abbreviation": "OKC",
                                    "total_wins": "25"
                                },
                                {
                                    "season": "2015",
                                    "team_abbreviation": "CHI",
                                    "total_wins": "24"
                                },
                                {
                                    "season": "2015",
                                    "team_abbreviation": "MEM",
                                    "total_wins": "24"
                                },
                                {
                                    "season": "2015",
                                    "team_abbreviation": "DAL",
                                    "total_wins": "24"
                                },
                                {
                                    "season": "2018",
                                    "team_abbreviation": "CHI",
                                    "total_wins": "24"
                                },
                                {
                                    "season": "2019",
                                    "team_abbreviation": "CHI",
                                    "total_wins": "24"
                                },
                                {
                                    "season": "2019",
                                    "team_abbreviation": "CHA",
                                    "total_wins": "24"
                                },
                                {
                                    "season": "2020",
                                    "team_abbreviation": "CLE",
                                    "total_wins": "24"
                                },
                                {
                                    "season": "2020",
                                    "team_abbreviation": "MIN",
                                    "total_wins": "24"
                                },
                                {
                                    "season": "2022",
                                    "team_abbreviation": "BOS",
                                    "total_wins": "24"
                                },
                                {
                                    "season": "2019",
                                    "team_abbreviation": "DET",
                                    "total_wins": "23"
                                },
                                {
                                    "season": "2020",
                                    "team_abbreviation": "ORL",
                                    "total_wins": "23"
                                },
                                {
                                    "season": "2020",
                                    "team_abbreviation": "OKC",
                                    "total_wins": "23"
                                },
                                {
                                    "season": "2021",
                                    "team_abbreviation": "ORL",
                                    "total_wins": "23"
                                },
                                {
                                    "season": "2022",
                                    "team_abbreviation": "NOP",
                                    "total_wins": "23"
                                },
                                {
                                    "season": "2022",
                                    "team_abbreviation": "CLE",
                                    "total_wins": "23"
                                },
                                {
                                    "season": "2017",
                                    "team_abbreviation": "PHX",
                                    "total_wins": "22"
                                },
                                {
                                    "season": "2019",
                                    "team_abbreviation": "NYK",
                                    "total_wins": "22"
                                },
                                {
                                    "season": "2020",
                                    "team_abbreviation": "DET",
                                    "total_wins": "22"
                                },
                                {
                                    "season": "2022",
                                    "team_abbreviation": "BKN",
                                    "total_wins": "22"
                                },
                                {
                                    "season": "2022",
                                    "team_abbreviation": "DEN",
                                    "total_wins": "22"
                                },
                                {
                                    "season": "2022",
                                    "team_abbreviation": "MIL",
                                    "total_wins": "22"
                                },
                                {
                                    "season": "2022",
                                    "team_abbreviation": "PHI",
                                    "total_wins": "22"
                                },
                                {
                                    "season": "2022",
                                    "team_abbreviation": "MEM",
                                    "total_wins": "22"
                                },
                                {
                                    "season": "2015",
                                    "team_abbreviation": "DEN",
                                    "total_wins": "21"
                                },
                                {
                                    "season": "2015",
                                    "team_abbreviation": "SAC",
                                    "total_wins": "21"
                                },
                                {
                                    "season": "2016",
                                    "team_abbreviation": "BKN",
                                    "total_wins": "21"
                                },
                                {
                                    "season": "2018",
                                    "team_abbreviation": "CLE",
                                    "total_wins": "21"
                                },
                                {
                                    "season": "2019",
                                    "team_abbreviation": "ATL",
                                    "total_wins": "21"
                                },
                                {
                                    "season": "2021",
                                    "team_abbreviation": "HOU",
                                    "total_wins": "21"
                                },
                                {
                                    "season": "2022",
                                    "team_abbreviation": "SAC",
                                    "total_wins": "21"
                                },
                                {
                                    "season": "2022",
                                    "team_abbreviation": "NYK",
                                    "total_wins": "21"
                                },
                                {
                                    "season": "2015",
                                    "team_abbreviation": "MIL",
                                    "total_wins": "20"
                                },
                                {
                                    "season": "2015",
                                    "team_abbreviation": "NOP",
                                    "total_wins": "20"
                                },
                                {
                                    "season": "2018",
                                    "team_abbreviation": "NYK",
                                    "total_wins": "20"
                                },
                                {
                                    "season": "2018",
                                    "team_abbreviation": "PHX",
                                    "total_wins": "20"
                                },
                                {
                                    "season": "2019",
                                    "team_abbreviation": "MIN",
                                    "total_wins": "20"
                                },
                                {
                                    "season": "2020",
                                    "team_abbreviation": "HOU",
                                    "total_wins": "20"
                                },
                                {
                                    "season": "2022",
                                    "team_abbreviation": "PHX",
                                    "total_wins": "20"
                                },
                                {
                                    "season": "2022",
                                    "team_abbreviation": "LAC",
                                    "total_wins": "20"
                                },
                                {
                                    "season": "2022",
                                    "team_abbreviation": "MIA",
                                    "total_wins": "20"
                                },
                                {
                                    "season": "2022",
                                    "team_abbreviation": "UTA",
                                    "total_wins": "20"
                                },
                                {
                                    "season": "2022",
                                    "team_abbreviation": "MIN",
                                    "total_wins": "20"
                                },
                                {
                                    "season": "2019",
                                    "team_abbreviation": "CLE",
                                    "total_wins": "19"
                                },
                                {
                                    "season": "2022",
                                    "team_abbreviation": "ATL",
                                    "total_wins": "18"
                                },
                                {
                                    "season": "2022",
                                    "team_abbreviation": "GSW",
                                    "total_wins": "18"
                                },
                                {
                                    "season": "2022",
                                    "team_abbreviation": "DAL",
                                    "total_wins": "18"
                                },
                                {
                                    "season": "2015",
                                    "team_abbreviation": "MIN",
                                    "total_wins": "17"
                                },
                                {
                                    "season": "2015",
                                    "team_abbreviation": "NYK",
                                    "total_wins": "17"
                                },
                                {
                                    "season": "2019",
                                    "team_abbreviation": "GSW",
                                    "total_wins": "17"
                                },
                                {
                                    "season": "2022",
                                    "team_abbreviation": "OKC",
                                    "total_wins": "17"
                                },
                                {
                                    "season": "2022",
                                    "team_abbreviation": "POR",
                                    "total_wins": "17"
                                },
                                {
                                    "season": "2022",
                                    "team_abbreviation": "IND",
                                    "total_wins": "17"
                                },
                                {
                                    "season": "2022",
                                    "team_abbreviation": "TOR",
                                    "total_wins": "17"
                                },
                                {
                                    "season": "2015",
                                    "team_abbreviation": "ORL",
                                    "total_wins": "16"
                                },
                                {
                                    "season": "2022",
                                    "team_abbreviation": "CHI",
                                    "total_wins": "16"
                                },
                                {
                                    "season": "2022",
                                    "team_abbreviation": "ORL",
                                    "total_wins": "16"
                                },
                                {
                                    "season": "2022",
                                    "team_abbreviation": "LAL",
                                    "total_wins": "14"
                                },
                                {
                                    "season": "2022",
                                    "team_abbreviation": "WAS",
                                    "total_wins": "13"
                                },
                                {
                                    "season": "2015",
                                    "team_abbreviation": "BKN",
                                    "total_wins": "12"
                                },
                                {
                                    "season": "2022",
                                    "team_abbreviation": "HOU",
                                    "total_wins": "12"
                                },
                                {
                                    "season": "2015",
                                    "team_abbreviation": "LAL",
                                    "total_wins": "11"
                                },
                                {
                                    "season": "2015",
                                    "team_abbreviation": "PHX",
                                    "total_wins": "11"
                                },
                                {
                                    "season": "2022",
                                    "team_abbreviation": "SAS",
                                    "total_wins": "11"
                                },
                                {
                                    "season": "2022",
                                    "team_abbreviation": "CHA",
                                    "total_wins": "8"
                                },
                                {
                                    "season": "2022",
                                    "team_abbreviation": "DET",
                                    "total_wins": "8"
                                },
                                {
                                    "season": "2015",
                                    "team_abbreviation": "PHI",
                                    "total_wins": "7"
                                }
                            ],
                            "schema": {
                                "fields": [
                                    {
                                        "name": "team_abbreviation"
                                    },
                                    {
                                        "name": "season"
                                    },
                                    {
                                        "name": "total_wins"
                                    }
                                ]
                            }
                        },
                        "text/html": [
                            "<table>\n",
                            "<tr><th>team_abbreviation</th><th>season</th><th>total_wins</th></tr>\n",
                            "<tr><td>GSW</td><td>NULL</td><td>445</td></tr>\n",
                            "<tr><td>BOS</td><td>NULL</td><td>416</td></tr>\n",
                            "<tr><td>TOR</td><td>NULL</td><td>410</td></tr>\n",
                            "<tr><td>MIL</td><td>NULL</td><td>399</td></tr>\n",
                            "<tr><td>UTA</td><td>NULL</td><td>377</td></tr>\n",
                            "<tr><td>LAC</td><td>NULL</td><td>366</td></tr>\n",
                            "<tr><td>MIA</td><td>NULL</td><td>365</td></tr>\n",
                            "<tr><td>DEN</td><td>NULL</td><td>363</td></tr>\n",
                            "<tr><td>PHI</td><td>NULL</td><td>342</td></tr>\n",
                            "<tr><td>SAS</td><td>NULL</td><td>339</td></tr>\n",
                            "<tr><td>HOU</td><td>NULL</td><td>339</td></tr>\n",
                            "<tr><td>POR</td><td>NULL</td><td>323</td></tr>\n",
                            "<tr><td>OKC</td><td>NULL</td><td>314</td></tr>\n",
                            "<tr><td>CLE</td><td>NULL</td><td>314</td></tr>\n",
                            "<tr><td>IND</td><td>NULL</td><td>307</td></tr>\n",
                            "<tr><td>DAL</td><td>NULL</td><td>300</td></tr>\n",
                            "<tr><td>MEM</td><td>NULL</td><td>300</td></tr>\n",
                            "<tr><td>LAL</td><td>NULL</td><td>285</td></tr>\n",
                            "<tr><td>WAS</td><td>NULL</td><td>282</td></tr>\n",
                            "<tr><td>PHX</td><td>NULL</td><td>278</td></tr>\n",
                            "<tr><td>ATL</td><td>NULL</td><td>278</td></tr>\n",
                            "<tr><td>NOP</td><td>NULL</td><td>277</td></tr>\n",
                            "<tr><td>BKN</td><td>NULL</td><td>274</td></tr>\n",
                            "<tr><td>CHA</td><td>NULL</td><td>264</td></tr>\n",
                            "<tr><td>MIN</td><td>NULL</td><td>256</td></tr>\n",
                            "<tr><td>CHI</td><td>NULL</td><td>249</td></tr>\n",
                            "<tr><td>SAC</td><td>NULL</td><td>245</td></tr>\n",
                            "<tr><td>NYK</td><td>NULL</td><td>230</td></tr>\n",
                            "<tr><td>DET</td><td>NULL</td><td>228</td></tr>\n",
                            "<tr><td>ORL</td><td>NULL</td><td>219</td></tr>\n",
                            "<tr><td>GSW</td><td>2016</td><td>89</td></tr>\n",
                            "<tr><td>HOU</td><td>2017</td><td>79</td></tr>\n",
                            "<tr><td>TOR</td><td>2018</td><td>77</td></tr>\n",
                            "<tr><td>GSW</td><td>2017</td><td>76</td></tr>\n",
                            "<tr><td>PHX</td><td>2021</td><td>74</td></tr>\n",
                            "<tr><td>GSW</td><td>2021</td><td>74</td></tr>\n",
                            "<tr><td>SAS</td><td>2016</td><td>73</td></tr>\n",
                            "<tr><td>MIL</td><td>2018</td><td>73</td></tr>\n",
                            "<tr><td>LAL</td><td>2019</td><td>73</td></tr>\n",
                            "<tr><td>GSW</td><td>2018</td><td>72</td></tr>\n",
                            "<tr><td>BOS</td><td>2017</td><td>70</td></tr>\n",
                            "<tr><td>MIA</td><td>2021</td><td>69</td></tr>\n",
                            "<tr><td>MIL</td><td>2019</td><td>68</td></tr>\n",
                            "<tr><td>BOS</td><td>2016</td><td>67</td></tr>\n",
                            "<tr><td>BOS</td><td>2021</td><td>67</td></tr>\n",
                            "<tr><td>CLE</td><td>2016</td><td>66</td></tr>\n",
                            "<tr><td>TOR</td><td>2017</td><td>66</td></tr>\n",
                            "<tr><td>HOU</td><td>2016</td><td>65</td></tr>\n",
                            "<tr><td>PHX</td><td>2020</td><td>65</td></tr>\n",
                            "<tr><td>MEM</td><td>2021</td><td>65</td></tr>\n",
                            "<tr><td>DAL</td><td>2021</td><td>65</td></tr>\n",
                            "<tr><td>POR</td><td>2018</td><td>64</td></tr>\n",
                            "<tr><td>DEN</td><td>2018</td><td>64</td></tr>\n",
                            "<tr><td>TOR</td><td>2019</td><td>64</td></tr>\n",
                            "<tr><td>CLE</td><td>2017</td><td>63</td></tr>\n",
                            "<tr><td>MIA</td><td>2019</td><td>63</td></tr>\n",
                            "<tr><td>BOS</td><td>2019</td><td>63</td></tr>\n",
                            "<tr><td>HOU</td><td>2018</td><td>62</td></tr>\n",
                            "<tr><td>MIL</td><td>2020</td><td>62</td></tr>\n",
                            "<tr><td>UTA</td><td>2020</td><td>61</td></tr>\n",
                            "<tr><td>WAS</td><td>2016</td><td>60</td></tr>\n",
                            "<tr><td>PHI</td><td>2018</td><td>60</td></tr>\n",
                            "<tr><td>DEN</td><td>2019</td><td>60</td></tr>\n",
                            "<tr><td>PHI</td><td>2017</td><td>59</td></tr>\n",
                            "<tr><td>PHI</td><td>2021</td><td>59</td></tr>\n",
                            "<tr><td>MIL</td><td>2021</td><td>59</td></tr>\n",
                            "<tr><td>GSW</td><td>2015</td><td>58</td></tr>\n",
                            "<tr><td>UTA</td><td>2016</td><td>58</td></tr>\n",
                            "<tr><td>TOR</td><td>2016</td><td>58</td></tr>\n",
                            "<tr><td>LAC</td><td>2019</td><td>58</td></tr>\n",
                            "<tr><td>PHI</td><td>2020</td><td>58</td></tr>\n",
                            "<tr><td>LAC</td><td>2016</td><td>57</td></tr>\n",
                            "<tr><td>BKN</td><td>2020</td><td>57</td></tr>\n",
                            "<tr><td>LAC</td><td>2020</td><td>57</td></tr>\n",
                            "<tr><td>UTA</td><td>2017</td><td>56</td></tr>\n",
                            "<tr><td>BOS</td><td>2018</td><td>55</td></tr>\n",
                            "<tr><td>NOP</td><td>2017</td><td>54</td></tr>\n",
                            "<tr><td>SAS</td><td>2018</td><td>54</td></tr>\n",
                            "<tr><td>UTA</td><td>2018</td><td>54</td></tr>\n",
                            "<tr><td>HOU</td><td>2019</td><td>54</td></tr>\n",
                            "<tr><td>POR</td><td>2017</td><td>53</td></tr>\n",
                            "<tr><td>IND</td><td>2017</td><td>53</td></tr>\n",
                            "<tr><td>LAC</td><td>2018</td><td>53</td></tr>\n",
                            "<tr><td>OKC</td><td>2018</td><td>53</td></tr>\n",
                            "<tr><td>DEN</td><td>2020</td><td>53</td></tr>\n",
                            "<tr><td>ATL</td><td>2020</td><td>53</td></tr>\n",
                            "<tr><td>TOR</td><td>2021</td><td>53</td></tr>\n",
                            "<tr><td>UTA</td><td>2021</td><td>53</td></tr>\n",
                            "<tr><td>CLE</td><td>2015</td><td>52</td></tr>\n",
                            "<tr><td>OKC</td><td>2017</td><td>52</td></tr>\n",
                            "<tr><td>MIN</td><td>2021</td><td>52</td></tr>\n",
                            "<tr><td>SAS</td><td>2017</td><td>51</td></tr>\n",
                            "<tr><td>OKC</td><td>2019</td><td>51</td></tr>\n",
                            "<tr><td>CHI</td><td>2021</td><td>51</td></tr>\n",
                            "<tr><td>ATL</td><td>2016</td><td>50</td></tr>\n",
                            "<tr><td>OKC</td><td>2016</td><td>50</td></tr>\n",
                            "<tr><td>MIN</td><td>2017</td><td>50</td></tr>\n",
                            "<tr><td>IND</td><td>2018</td><td>50</td></tr>\n",
                            "<tr><td>IND</td><td>2019</td><td>50</td></tr>\n",
                            "<tr><td>DEN</td><td>2021</td><td>50</td></tr>\n",
                            "<tr><td>MEM</td><td>2016</td><td>49</td></tr>\n",
                            "<tr><td>DEN</td><td>2017</td><td>49</td></tr>\n",
                            "<tr><td>UTA</td><td>2019</td><td>49</td></tr>\n",
                            "<tr><td>DAL</td><td>2019</td><td>49</td></tr>\n",
                            "<tr><td>LAL</td><td>2020</td><td>49</td></tr>\n",
                            "<tr><td>MIL</td><td>2017</td><td>48</td></tr>\n",
                            "<tr><td>WAS</td><td>2017</td><td>48</td></tr>\n",
                            "<tr><td>MIA</td><td>2017</td><td>48</td></tr>\n",
                            "<tr><td>BKN</td><td>2021</td><td>48</td></tr>\n",
                            "<tr><td>ATL</td><td>2021</td><td>48</td></tr>\n",
                            "<tr><td>MIL</td><td>2016</td><td>47</td></tr>\n",
                            "<tr><td>PHI</td><td>2019</td><td>47</td></tr>\n",
                            "<tr><td>DAL</td><td>2020</td><td>47</td></tr>\n",
                            "<tr><td>TOR</td><td>2015</td><td>46</td></tr>\n",
                            "<tr><td>CHI</td><td>2016</td><td>46</td></tr>\n",
                            "<tr><td>CLE</td><td>2021</td><td>46</td></tr>\n",
                            "<tr><td>SAS</td><td>2015</td><td>45</td></tr>\n",
                            "<tr><td>IND</td><td>2016</td><td>45</td></tr>\n",
                            "<tr><td>MIA</td><td>2016</td><td>45</td></tr>\n",
                            "<tr><td>BKN</td><td>2018</td><td>45</td></tr>\n",
                            "<tr><td>NYK</td><td>2020</td><td>45</td></tr>\n",
                            "<tr><td>POR</td><td>2020</td><td>45</td></tr>\n",
                            "<tr><td>DEN</td><td>2016</td><td>44</td></tr>\n",
                            "<tr><td>POR</td><td>2016</td><td>44</td></tr>\n",
                            "<tr><td>LAC</td><td>2017</td><td>44</td></tr>\n",
                            "<tr><td>ORL</td><td>2018</td><td>44</td></tr>\n",
                            "<tr><td>MEM</td><td>2020</td><td>44</td></tr>\n",
                            "<tr><td>CHA</td><td>2021</td><td>44</td></tr>\n",
                            "<tr><td>OKC</td><td>2015</td><td>43</td></tr>\n",
                            "<tr><td>CHA</td><td>2018</td><td>43</td></tr>\n",
                            "<tr><td>DET</td><td>2018</td><td>43</td></tr>\n",
                            "<tr><td>LAC</td><td>2021</td><td>43</td></tr>\n",
                            "<tr><td>MIA</td><td>2018</td><td>42</td></tr>\n",
                            "<tr><td>DET</td><td>2017</td><td>41</td></tr>\n",
                            "<tr><td>GSW</td><td>2020</td><td>41</td></tr>\n",
                            "<tr><td>MIA</td><td>2020</td><td>41</td></tr>\n",
                            "<tr><td>NOP</td><td>2021</td><td>41</td></tr>\n",
                            "<tr><td>NYK</td><td>2021</td><td>41</td></tr>\n",
                            "<tr><td>DET</td><td>2016</td><td>40</td></tr>\n",
                            "<tr><td>SAC</td><td>2018</td><td>40</td></tr>\n",
                            "<tr><td>LAL</td><td>2018</td><td>40</td></tr>\n",
                            "<tr><td>CHA</td><td>2016</td><td>39</td></tr>\n",
                            "<tr><td>CHA</td><td>2017</td><td>38</td></tr>\n",
                            "<tr><td>BKN</td><td>2019</td><td>38</td></tr>\n",
                            "<tr><td>PHX</td><td>2019</td><td>38</td></tr>\n",
                            "<tr><td>ORL</td><td>2019</td><td>38</td></tr>\n",
                            "<tr><td>POR</td><td>2019</td><td>38</td></tr>\n",
                            "<tr><td>NOP</td><td>2019</td><td>38</td></tr>\n",
                            "<tr><td>BOS</td><td>2020</td><td>38</td></tr>\n",
                            "<tr><td>MIA</td><td>2015</td><td>37</td></tr>\n",
                            "<tr><td>LAL</td><td>2017</td><td>37</td></tr>\n",
                            "<tr><td>MIN</td><td>2018</td><td>37</td></tr>\n",
                            "<tr><td>WAS</td><td>2020</td><td>37</td></tr>\n",
                            "<tr><td>SAS</td><td>2021</td><td>37</td></tr>\n",
                            "<tr><td>MIN</td><td>2016</td><td>36</td></tr>\n",
                            "<tr><td>MEM</td><td>2019</td><td>36</td></tr>\n",
                            "<tr><td>POR</td><td>2015</td><td>35</td></tr>\n",
                            "<tr><td>NOP</td><td>2016</td><td>35</td></tr>\n",
                            "<tr><td>DAL</td><td>2016</td><td>35</td></tr>\n",
                            "<tr><td>NYK</td><td>2016</td><td>35</td></tr>\n",
                            "<tr><td>WAS</td><td>2018</td><td>35</td></tr>\n",
                            "<tr><td>MEM</td><td>2018</td><td>35</td></tr>\n",
                            "<tr><td>SAS</td><td>2019</td><td>35</td></tr>\n",
                            "<tr><td>IND</td><td>2020</td><td>35</td></tr>\n",
                            "<tr><td>WAS</td><td>2021</td><td>35</td></tr>\n",
                            "<tr><td>CHA</td><td>2015</td><td>34</td></tr>\n",
                            "<tr><td>LAC</td><td>2015</td><td>34</td></tr>\n",
                            "<tr><td>SAC</td><td>2016</td><td>34</td></tr>\n",
                            "<tr><td>DAL</td><td>2018</td><td>34</td></tr>\n",
                            "<tr><td>SAC</td><td>2019</td><td>34</td></tr>\n",
                            "<tr><td>CHI</td><td>2020</td><td>34</td></tr>\n",
                            "<tr><td>CHA</td><td>2020</td><td>34</td></tr>\n",
                            "<tr><td>SAC</td><td>2021</td><td>34</td></tr>\n",
                            "<tr><td>NOP</td><td>2018</td><td>33</td></tr>\n",
                            "<tr><td>SAC</td><td>2020</td><td>33</td></tr>\n",
                            "<tr><td>SAS</td><td>2020</td><td>33</td></tr>\n",
                            "<tr><td>NOP</td><td>2020</td><td>33</td></tr>\n",
                            "<tr><td>LAL</td><td>2021</td><td>33</td></tr>\n",
                            "<tr><td>BOS</td><td>2015</td><td>32</td></tr>\n",
                            "<tr><td>ATL</td><td>2015</td><td>31</td></tr>\n",
                            "<tr><td>ORL</td><td>2016</td><td>31</td></tr>\n",
                            "<tr><td>BKN</td><td>2017</td><td>31</td></tr>\n",
                            "<tr><td>ATL</td><td>2018</td><td>31</td></tr>\n",
                            "<tr><td>IND</td><td>2015</td><td>30</td></tr>\n",
                            "<tr><td>PHI</td><td>2016</td><td>30</td></tr>\n",
                            "<tr><td>CHI</td><td>2017</td><td>30</td></tr>\n",
                            "<tr><td>NYK</td><td>2017</td><td>29</td></tr>\n",
                            "<tr><td>TOR</td><td>2020</td><td>29</td></tr>\n",
                            "<tr><td>PHX</td><td>2016</td><td>28</td></tr>\n",
                            "<tr><td>LAL</td><td>2016</td><td>28</td></tr>\n",
                            "<tr><td>SAC</td><td>2017</td><td>28</td></tr>\n",
                            "<tr><td>DAL</td><td>2017</td><td>28</td></tr>\n",
                            "<tr><td>ORL</td><td>2017</td><td>28</td></tr>\n",
                            "<tr><td>WAS</td><td>2015</td><td>27</td></tr>\n",
                            "<tr><td>WAS</td><td>2019</td><td>27</td></tr>\n",
                            "<tr><td>POR</td><td>2021</td><td>27</td></tr>\n",
                            "<tr><td>IND</td><td>2021</td><td>27</td></tr>\n",
                            "<tr><td>HOU</td><td>2015</td><td>26</td></tr>\n",
                            "<tr><td>UTA</td><td>2015</td><td>26</td></tr>\n",
                            "<tr><td>DET</td><td>2015</td><td>26</td></tr>\n",
                            "<tr><td>ATL</td><td>2017</td><td>26</td></tr>\n",
                            "<tr><td>MEM</td><td>2017</td><td>25</td></tr>\n",
                            "<tr><td>DET</td><td>2021</td><td>25</td></tr>\n",
                            "<tr><td>OKC</td><td>2021</td><td>25</td></tr>\n",
                            "<tr><td>CHI</td><td>2015</td><td>24</td></tr>\n",
                            "<tr><td>MEM</td><td>2015</td><td>24</td></tr>\n",
                            "<tr><td>DAL</td><td>2015</td><td>24</td></tr>\n",
                            "<tr><td>CHI</td><td>2018</td><td>24</td></tr>\n",
                            "<tr><td>CHI</td><td>2019</td><td>24</td></tr>\n",
                            "<tr><td>CHA</td><td>2019</td><td>24</td></tr>\n",
                            "<tr><td>CLE</td><td>2020</td><td>24</td></tr>\n",
                            "<tr><td>MIN</td><td>2020</td><td>24</td></tr>\n",
                            "<tr><td>BOS</td><td>2022</td><td>24</td></tr>\n",
                            "<tr><td>DET</td><td>2019</td><td>23</td></tr>\n",
                            "<tr><td>ORL</td><td>2020</td><td>23</td></tr>\n",
                            "<tr><td>OKC</td><td>2020</td><td>23</td></tr>\n",
                            "<tr><td>ORL</td><td>2021</td><td>23</td></tr>\n",
                            "<tr><td>NOP</td><td>2022</td><td>23</td></tr>\n",
                            "<tr><td>CLE</td><td>2022</td><td>23</td></tr>\n",
                            "<tr><td>PHX</td><td>2017</td><td>22</td></tr>\n",
                            "<tr><td>NYK</td><td>2019</td><td>22</td></tr>\n",
                            "<tr><td>DET</td><td>2020</td><td>22</td></tr>\n",
                            "<tr><td>BKN</td><td>2022</td><td>22</td></tr>\n",
                            "<tr><td>DEN</td><td>2022</td><td>22</td></tr>\n",
                            "<tr><td>MIL</td><td>2022</td><td>22</td></tr>\n",
                            "<tr><td>PHI</td><td>2022</td><td>22</td></tr>\n",
                            "<tr><td>MEM</td><td>2022</td><td>22</td></tr>\n",
                            "<tr><td>DEN</td><td>2015</td><td>21</td></tr>\n",
                            "<tr><td>SAC</td><td>2015</td><td>21</td></tr>\n",
                            "<tr><td>BKN</td><td>2016</td><td>21</td></tr>\n",
                            "<tr><td>CLE</td><td>2018</td><td>21</td></tr>\n",
                            "<tr><td>ATL</td><td>2019</td><td>21</td></tr>\n",
                            "<tr><td>HOU</td><td>2021</td><td>21</td></tr>\n",
                            "<tr><td>SAC</td><td>2022</td><td>21</td></tr>\n",
                            "<tr><td>NYK</td><td>2022</td><td>21</td></tr>\n",
                            "<tr><td>MIL</td><td>2015</td><td>20</td></tr>\n",
                            "<tr><td>NOP</td><td>2015</td><td>20</td></tr>\n",
                            "<tr><td>NYK</td><td>2018</td><td>20</td></tr>\n",
                            "<tr><td>PHX</td><td>2018</td><td>20</td></tr>\n",
                            "<tr><td>MIN</td><td>2019</td><td>20</td></tr>\n",
                            "<tr><td>HOU</td><td>2020</td><td>20</td></tr>\n",
                            "<tr><td>PHX</td><td>2022</td><td>20</td></tr>\n",
                            "<tr><td>LAC</td><td>2022</td><td>20</td></tr>\n",
                            "<tr><td>MIA</td><td>2022</td><td>20</td></tr>\n",
                            "<tr><td>UTA</td><td>2022</td><td>20</td></tr>\n",
                            "<tr><td>MIN</td><td>2022</td><td>20</td></tr>\n",
                            "<tr><td>CLE</td><td>2019</td><td>19</td></tr>\n",
                            "<tr><td>ATL</td><td>2022</td><td>18</td></tr>\n",
                            "<tr><td>GSW</td><td>2022</td><td>18</td></tr>\n",
                            "<tr><td>DAL</td><td>2022</td><td>18</td></tr>\n",
                            "<tr><td>MIN</td><td>2015</td><td>17</td></tr>\n",
                            "<tr><td>NYK</td><td>2015</td><td>17</td></tr>\n",
                            "<tr><td>GSW</td><td>2019</td><td>17</td></tr>\n",
                            "<tr><td>OKC</td><td>2022</td><td>17</td></tr>\n",
                            "<tr><td>POR</td><td>2022</td><td>17</td></tr>\n",
                            "<tr><td>IND</td><td>2022</td><td>17</td></tr>\n",
                            "<tr><td>TOR</td><td>2022</td><td>17</td></tr>\n",
                            "<tr><td>ORL</td><td>2015</td><td>16</td></tr>\n",
                            "<tr><td>CHI</td><td>2022</td><td>16</td></tr>\n",
                            "<tr><td>ORL</td><td>2022</td><td>16</td></tr>\n",
                            "<tr><td>LAL</td><td>2022</td><td>14</td></tr>\n",
                            "<tr><td>WAS</td><td>2022</td><td>13</td></tr>\n",
                            "<tr><td>BKN</td><td>2015</td><td>12</td></tr>\n",
                            "<tr><td>HOU</td><td>2022</td><td>12</td></tr>\n",
                            "<tr><td>LAL</td><td>2015</td><td>11</td></tr>\n",
                            "<tr><td>PHX</td><td>2015</td><td>11</td></tr>\n",
                            "<tr><td>SAS</td><td>2022</td><td>11</td></tr>\n",
                            "<tr><td>CHA</td><td>2022</td><td>8</td></tr>\n",
                            "<tr><td>DET</td><td>2022</td><td>8</td></tr>\n",
                            "<tr><td>PHI</td><td>2015</td><td>7</td></tr>\n",
                            "</table>"
                        ]
                    },
                    "execution_count": 99,
                    "metadata": {},
                    "output_type": "execute_result"
                }
            ],
            "source": [
                "-- Find which team won the most games overall and then by season (IF season IS NOT NULL)\n",
                "WITH wins AS (\n",
                "    SELECT \n",
                "        gd.game_id\n",
                "        , gd.team_id\n",
                "        , g.season\n",
                "        , g.home_team_wins \n",
                "        , g.home_team_id\n",
                "        , g.visitor_team_id\n",
                "        , gd.team_abbreviation\n",
                "        , CASE\n",
                "            WHEN team_id = home_team_id AND home_team_wins = 1 THEN 1\n",
                "            WHEN team_id = home_team_id AND home_team_wins = 0 THEN 0\n",
                "            WHEN team_id = visitor_team_id AND home_team_wins = 1 THEN 0\n",
                "            ELSE 1\n",
                "        END AS won_game\n",
                "    FROM game_details gd \n",
                "        LEFT JOIN games g ON gd.game_id = g.game_id\n",
                "    GROUP BY gd.game_id, gd.team_id, g.home_team_wins, g.home_team_id, g.visitor_team_id, gd.team_abbreviation, g.season\n",
                ")\n",
                "SELECT\n",
                "    team_abbreviation\n",
                "    , season\n",
                "    , SUM(won_game) AS total_wins \n",
                "FROM wins\n",
                "GROUP BY GROUPING SETS (\n",
                "    (team_abbreviation)\n",
                "    , (team_abbreviation, season)\n",
                ")\n",
                "ORDER BY total_wins DESC, season ASC"
            ]
        },
        {
            "attachments": {},
            "cell_type": "markdown",
            "metadata": {
                "azdata_cell_guid": "ea9ceaf4-d535-4a4e-a728-fbac63f27156"
            },
            "source": [
                "Write a Windowed Query on game\\_details that finds out\n",
                "\n",
                "\\- What is the most games a team won in a 90 game stretch?\n",
                "\n",
                "\\- How many games in a row did LeBron James score over 10 points a game?"
            ]
        },
        {
            "cell_type": "code",
            "execution_count": 117,
            "metadata": {
                "azdata_cell_guid": "1fdadb3c-7035-4c1e-9344-8b5114a0534f",
                "language": "sql"
            },
            "outputs": [
                {
                    "data": {
                        "text/html": [
                            "(30 row(s) affected)"
                        ]
                    },
                    "metadata": {},
                    "output_type": "display_data"
                },
                {
                    "data": {
                        "text/html": [
                            "Total execution time: 00:00:00.148"
                        ]
                    },
                    "metadata": {},
                    "output_type": "display_data"
                },
                {
                    "data": {
                        "application/vnd.dataresource+json": {
                            "data": [
                                {
                                    "max": "78",
                                    "team_abbreviation": "GSW"
                                },
                                {
                                    "max": "73",
                                    "team_abbreviation": "MIL"
                                },
                                {
                                    "max": "72",
                                    "team_abbreviation": "SAS"
                                },
                                {
                                    "max": "72",
                                    "team_abbreviation": "PHX"
                                },
                                {
                                    "max": "70",
                                    "team_abbreviation": "HOU"
                                },
                                {
                                    "max": "69",
                                    "team_abbreviation": "TOR"
                                },
                                {
                                    "max": "67",
                                    "team_abbreviation": "UTA"
                                },
                                {
                                    "max": "66",
                                    "team_abbreviation": "LAL"
                                },
                                {
                                    "max": "66",
                                    "team_abbreviation": "BOS"
                                },
                                {
                                    "max": "65",
                                    "team_abbreviation": "CLE"
                                },
                                {
                                    "max": "65",
                                    "team_abbreviation": "MEM"
                                },
                                {
                                    "max": "64",
                                    "team_abbreviation": "PHI"
                                },
                                {
                                    "max": "64",
                                    "team_abbreviation": "BKN"
                                },
                                {
                                    "max": "63",
                                    "team_abbreviation": "LAC"
                                },
                                {
                                    "max": "61",
                                    "team_abbreviation": "DEN"
                                },
                                {
                                    "max": "60",
                                    "team_abbreviation": "MIA"
                                },
                                {
                                    "max": "60",
                                    "team_abbreviation": "IND"
                                },
                                {
                                    "max": "59",
                                    "team_abbreviation": "POR"
                                },
                                {
                                    "max": "58",
                                    "team_abbreviation": "DAL"
                                },
                                {
                                    "max": "58",
                                    "team_abbreviation": "OKC"
                                },
                                {
                                    "max": "57",
                                    "team_abbreviation": "WAS"
                                },
                                {
                                    "max": "54",
                                    "team_abbreviation": "NOP"
                                },
                                {
                                    "max": "54",
                                    "team_abbreviation": "ATL"
                                },
                                {
                                    "max": "54",
                                    "team_abbreviation": "CHA"
                                },
                                {
                                    "max": "53",
                                    "team_abbreviation": "MIN"
                                },
                                {
                                    "max": "52",
                                    "team_abbreviation": "NYK"
                                },
                                {
                                    "max": "51",
                                    "team_abbreviation": "CHI"
                                },
                                {
                                    "max": "49",
                                    "team_abbreviation": "ORL"
                                },
                                {
                                    "max": "48",
                                    "team_abbreviation": "DET"
                                },
                                {
                                    "max": "43",
                                    "team_abbreviation": "SAC"
                                }
                            ],
                            "schema": {
                                "fields": [
                                    {
                                        "name": "team_abbreviation"
                                    },
                                    {
                                        "name": "max"
                                    }
                                ]
                            }
                        },
                        "text/html": [
                            "<table>\n",
                            "<tr><th>team_abbreviation</th><th>max</th></tr>\n",
                            "<tr><td>GSW</td><td>78</td></tr>\n",
                            "<tr><td>MIL</td><td>73</td></tr>\n",
                            "<tr><td>SAS</td><td>72</td></tr>\n",
                            "<tr><td>PHX</td><td>72</td></tr>\n",
                            "<tr><td>HOU</td><td>70</td></tr>\n",
                            "<tr><td>TOR</td><td>69</td></tr>\n",
                            "<tr><td>UTA</td><td>67</td></tr>\n",
                            "<tr><td>LAL</td><td>66</td></tr>\n",
                            "<tr><td>BOS</td><td>66</td></tr>\n",
                            "<tr><td>CLE</td><td>65</td></tr>\n",
                            "<tr><td>MEM</td><td>65</td></tr>\n",
                            "<tr><td>PHI</td><td>64</td></tr>\n",
                            "<tr><td>BKN</td><td>64</td></tr>\n",
                            "<tr><td>LAC</td><td>63</td></tr>\n",
                            "<tr><td>DEN</td><td>61</td></tr>\n",
                            "<tr><td>MIA</td><td>60</td></tr>\n",
                            "<tr><td>IND</td><td>60</td></tr>\n",
                            "<tr><td>POR</td><td>59</td></tr>\n",
                            "<tr><td>DAL</td><td>58</td></tr>\n",
                            "<tr><td>OKC</td><td>58</td></tr>\n",
                            "<tr><td>WAS</td><td>57</td></tr>\n",
                            "<tr><td>NOP</td><td>54</td></tr>\n",
                            "<tr><td>ATL</td><td>54</td></tr>\n",
                            "<tr><td>CHA</td><td>54</td></tr>\n",
                            "<tr><td>MIN</td><td>53</td></tr>\n",
                            "<tr><td>NYK</td><td>52</td></tr>\n",
                            "<tr><td>CHI</td><td>51</td></tr>\n",
                            "<tr><td>ORL</td><td>49</td></tr>\n",
                            "<tr><td>DET</td><td>48</td></tr>\n",
                            "<tr><td>SAC</td><td>43</td></tr>\n",
                            "</table>"
                        ]
                    },
                    "execution_count": 117,
                    "metadata": {},
                    "output_type": "execute_result"
                }
            ],
            "source": [
                "-- This answers the most games won (per team) in a 90 game stretch\n",
                "WITH wins AS (\n",
                "    SELECT \n",
                "        gd.game_id\n",
                "        , gd.team_id\n",
                "        , g.season\n",
                "        , g.home_team_wins \n",
                "        , g.home_team_id\n",
                "        , g.visitor_team_id\n",
                "        , gd.team_abbreviation\n",
                "        , CASE\n",
                "            WHEN team_id = home_team_id AND home_team_wins = 1 THEN 1\n",
                "            WHEN team_id = home_team_id AND home_team_wins = 0 THEN 0\n",
                "            WHEN team_id = visitor_team_id AND home_team_wins = 1 THEN 0\n",
                "            ELSE 1\n",
                "        END AS won_game\n",
                "    FROM game_details gd \n",
                "        LEFT JOIN games g ON gd.game_id = g.game_id\n",
                "    GROUP BY gd.game_id, gd.team_id, g.home_team_wins, g.home_team_id, g.visitor_team_id, gd.team_abbreviation, g.season\n",
                "), windowed AS (\n",
                "    SELECT \n",
                "        team_abbreviation\n",
                "        , game_id\n",
                "        , SUM(won_game) OVER (\n",
                "                PARTITION BY team_abbreviation\n",
                "                ORDER BY game_id\n",
                "                ROWS BETWEEN 89 PRECEDING AND CURRENT ROW\n",
                "            ) as wins_per_90_games         \n",
                "    FROM wins\n",
                ")\n",
                "SELECT \n",
                "    team_abbreviation\n",
                "    , MAX(wins_per_90_games)\n",
                "FROM windowed\n",
                "GROUP BY team_abbreviation\n",
                "ORDER BY MAX(wins_per_90_games) DESC\n",
                "\n"
            ]
        },
        {
            "cell_type": "code",
            "execution_count": 135,
            "metadata": {
                "azdata_cell_guid": "715d8090-ddfb-4d7b-973e-b6da3937c37c",
                "language": "sql"
            },
            "outputs": [
                {
                    "data": {
                        "text/html": [
                            "(1 row(s) affected)"
                        ]
                    },
                    "metadata": {},
                    "output_type": "display_data"
                },
                {
                    "data": {
                        "text/html": [
                            "Total execution time: 00:00:00.028"
                        ]
                    },
                    "metadata": {},
                    "output_type": "display_data"
                },
                {
                    "data": {
                        "application/vnd.dataresource+json": {
                            "data": [
                                {
                                    "longest_streak": "163",
                                    "player_name": "LeBron James"
                                }
                            ],
                            "schema": {
                                "fields": [
                                    {
                                        "name": "player_name"
                                    },
                                    {
                                        "name": "longest_streak"
                                    }
                                ]
                            }
                        },
                        "text/html": [
                            "<table>\n",
                            "<tr><th>player_name</th><th>longest_streak</th></tr>\n",
                            "<tr><td>LeBron James</td><td>163</td></tr>\n",
                            "</table>"
                        ]
                    },
                    "execution_count": 135,
                    "metadata": {},
                    "output_type": "execute_result"
                }
            ],
            "source": [
                "-- This answers how many games in a row LeBron James scored more than 10 points per game\n",
                "-- The first CTE will add 1 each time there is a game below 10, creating different streak groups by game\n",
                "WITH streak_groups AS (\n",
                "    SELECT \n",
                "        player_name\n",
                "        , game_id\n",
                "        , pts \n",
                "        , SUM(CASE WHEN pts > 10 THEN 0 ELSE 1 END) OVER (\n",
                "            PARTITION BY player_name \n",
                "            ORDER BY game_id\n",
                "        ) AS streak_group\n",
                "    FROM game_details\n",
                "    WHERE player_name = 'LeBron James' AND comment IS NULL\n",
                "), streak_lengths AS (\n",
                "    SELECT\n",
                "        player_name\n",
                "        , streak_group\n",
                "        , COUNT(*) AS streak_length\n",
                "    FROM streak_groups\n",
                "    WHERE pts > 10\n",
                "    GROUP BY player_name, streak_group\n",
                ") \n",
                "SELECT \n",
                "    player_name\n",
                "    , MAX(streak_length) AS longest_streak\n",
                "FROM streak_lengths\n",
                "GROUP BY player_name;"
            ]
        }
    ],
    "metadata": {
        "kernelspec": {
            "display_name": "SQL",
            "language": "sql",
            "name": "SQL"
        },
        "language_info": {
            "name": "sql",
            "version": ""
        }
    },
    "nbformat": 4,
    "nbformat_minor": 2
}
